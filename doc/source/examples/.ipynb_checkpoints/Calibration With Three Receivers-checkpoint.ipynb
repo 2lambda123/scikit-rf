{
 "metadata": {
  "name": "",
  "signature": "sha256:69b8bafc09a1f6221e28928ab8b99b00a35919a83a6f5a0881d8ea8602c7ec24"
 },
 "nbformat": 3,
 "nbformat_minor": 0,
 "worksheets": [
  {
   "cells": [
    {
     "cell_type": "code",
     "collapsed": false,
     "input": [
      "from IPython.display import Image"
     ],
     "language": "python",
     "metadata": {},
     "outputs": [],
     "prompt_number": 6
    },
    {
     "cell_type": "markdown",
     "metadata": {},
     "source": [
      "Full error correction is possible given a VNA  with three recievers, provided the device under test (DUT) can be measured in both forward and reverse orientation. "
     ]
    },
    {
     "cell_type": "code",
     "collapsed": false,
     "input": [
      "Image"
     ],
     "language": "python",
     "metadata": {},
     "outputs": [
      {
       "metadata": {},
       "output_type": "pyout",
       "prompt_number": 7,
       "text": [
        "IPython.core.display.Image"
       ]
      }
     ],
     "prompt_number": 7
    },
    {
     "cell_type": "markdown",
     "metadata": {},
     "source": [
      "To fully correct an arbitrary two-port,  the device must be measured in two orientations, call these forward and reverse. In practice, this requires the operator to physically flip the device, or to have two identical devices fabricated, one in each orientation. In either case, both measurements are required before correction can occur. \n",
      "\n",
      "While in reality the device is being flipped, this is equivalent to leaving the device static, and flipping the entire VNA circuitry. If we represent two-port networks by their wave cascading matrices and the action of flipping by  $A\\rightarrow  \\bar{A} $, then the equivalence between flipping the device or switching a symmetrical VNA's state is expressed by\n",
      "\n",
      "$$\n",
      "X\\bar{A}Y=\\overline{\\bar{Y}A\\bar{X}}\n",
      "$$\n",
      "\n",
      "This interpretation lends itself to implementation, as the existing 12-term correction can re-used by simply copying the forward error coefficients into the corresponding reverse error coefficients. This is what `skrf` does internally.\n",
      "\n",
      "In the full 12-term correction, the measured S-matrix of two-port device ($S$) is constructed from two separate measurements; forward $(S^{f})$ and reverse ($S^{r}$ ). In this context, the terms forward and reverse correspond to the excitation state of the VNA.\n",
      "$$\n",
      "S=\\left[\\begin{array}{cc}\n",
      "s_{11}^{f} & s_{12}^{r}\\\\\n",
      "s_{21}^{f} & s_{22}^{r}\n",
      "\\end{array}\\right]\n",
      " $$\n",
      "\n",
      "For a three receiver calibration the same matrix is built for every DUT, except the forward and reverse states correspond to the **device** orientation as opposed to the VNA state. \n",
      "\n",
      "\n",
      "Because the three receiver architecture requires two connections for each corrected measurement it has a larger measurement uncertainty than the four receiver architecture, which changes the excitation state with an electronic switch. However, for many applications connector uncertainty is very low, and their difference is minor. "
     ]
    },
    {
     "cell_type": "code",
     "collapsed": false,
     "input": [],
     "language": "python",
     "metadata": {},
     "outputs": []
    }
   ],
   "metadata": {}
  }
 ]
}