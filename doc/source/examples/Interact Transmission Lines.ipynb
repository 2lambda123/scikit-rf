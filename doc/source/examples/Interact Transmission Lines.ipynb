{
 "cells": [
  {
   "cell_type": "code",
   "execution_count": null,
   "metadata": {
    "collapsed": false
   },
   "outputs": [],
   "source": [
    "%pylab inline\n",
    "from pylab import * \n",
    "\n",
    "from IPython.html.widgets import interact\n",
    "\n",
    "\n",
    "from skrf.media import DistributedCircuit\n",
    "from skrf import Frequency\n",
    "import skrf as rf\n",
    "rf.stylely()\n",
    "# define a frequency object \n",
    "freq = Frequency(0,10,1001,'ghz')\n",
    "\n",
    "# create a Media object for RG-58, based on distributed ckt values\n",
    "rg58 = DistributedCircuit(frequency = freq,\n",
    "                          C =93.5e-12,#F/m \n",
    "                          I =273e-9,  #H/m\n",
    "                          R =0,#53e-3,   #Ohm/m \n",
    "                          G =0,       #S/m\n",
    "                          )\n",
    "\n",
    "\n",
    "load = rg58.load(.5)\n",
    "def func(d1=180,d2=180):\n",
    "    l1 =rg58.line(d=d1,unit='deg')\n",
    "    l2 =rg58.shunt_delay_open(d=d2,unit='deg')\n",
    "    ntwk = l2**l1**load\n",
    "    ntwk.plot_s_smith(0,0)\n",
    "    draw()\n",
    "    show()\n",
    "    \n",
    "a=interact(func, d1= (0,360,10),d2= (0,360,10),embed=True);"
   ]
  },
  {
   "cell_type": "code",
   "execution_count": null,
   "metadata": {
    "collapsed": false
   },
   "outputs": [],
   "source": [
    "from IPython.html.widgets import interact\n",
    "from IPython.display import Image\n",
    "Image('/home/alex/Downloads/6dBattenuator+ impedanceStep.png')"
   ]
  },
  {
   "cell_type": "code",
   "execution_count": null,
   "metadata": {
    "collapsed": false
   },
   "outputs": [],
   "source": []
  }
 ],
 "metadata": {
  "anaconda-cloud": {},
  "kernelspec": {
   "display_name": "IPython (Python 2)",
   "language": "python",
   "name": "python2"
  },
  "language_info": {
   "name": "python",
   "version": "2.7.6"
  }
 },
 "nbformat": 4,
 "nbformat_minor": 0
}
