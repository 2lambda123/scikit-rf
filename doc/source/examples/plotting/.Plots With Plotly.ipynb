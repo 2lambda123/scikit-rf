{
 "cells": [
  {
   "cell_type": "markdown",
   "metadata": {},
   "source": [
    "# scikit-rf: Matplotlib and Plotly \n",
    "This notebook demonstrates how to use [scikit-rf](http://www.scikit-rf.org/) and [Plotly](http://plot.ly) to generate interactive graphs from existing static matplotlib graphs. \n",
    " \n",
    " [Plotly](http://plot.ly) is for making shareable, publication-quality plots in your browser. Plotly's [Python API](http://plot.ly/api/python) creates interactive graphs in your browser that you can edit with a GUI. It's online, you own your data, and public use is free (like GitHub). \n",
    " \n",
    "You can use Plotly and scikit-rf to make interactive, web-based versions of the plots produced by scikit-rf. This IPython Notebook showcases some of those examples. Check in with matt at plot.ly with with questions, thoughts, or more suggestions.\n",
    " \n",
    "More example notebooks using plotly can be found [here](http://nbviewer.ipython.org/github/plotly/IPython-plotly/tree/master/). \n",
    "\n",
    "## Plotly Setup\n",
    "\n",
    "Begin by installin Plotly and configuring it for your account (after you have created it):\n",
    "\n",
    "    pip install plotly\n",
    "    python -c \"import plotly; plotly.tools.set_credentials_file(username='***USERNAME***', api_key='***API_KEY***')\"\n",
    "   \n",
    "Change `***USERNAME***` and `***API_KEY***` to match your account. Your API Key is found by cliking on your username in the top right corner of a Plotly web page, then selecting `Settings` from the drop down menu. The key is found on the `API Settings` page.\n",
    "\n",
    "The second line of code creates a credentials file in `~/.plotly/.credentials`. This allows you to log into your Plotly account with out having to include your login information in every script.\n",
    "\n",
    "Check out [the first page of the Plotly Python user guide](https://plot.ly/python/user-guide/) for more on setting up Plotly.\n",
    "\n",
    "## First Plotly Plot\n",
    "\n",
    "Here is the first example form Plotly's [Getting Start page](https://plot.ly/python/getting-started/). This creates a plot on Plotly, not in the notebook."
   ]
  },
  {
   "cell_type": "code",
   "execution_count": null,
   "metadata": {
    "collapsed": false
   },
   "outputs": [],
   "source": [
    "# !pip install plotly --upgrade\n",
    "\n",
    "from plotly import __version__\n",
    "from plotly.offline import download_plotlyjs, init_notebook_mode, iplot\n",
    "\n",
    "\n",
    "init_notebook_mode() # run at the start of every ipython notebook to use plotly.offline\n",
    "                     # this injects the plotly.js source files into the notebook"
   ]
  },
  {
   "cell_type": "code",
   "execution_count": null,
   "metadata": {
    "collapsed": false
   },
   "outputs": [],
   "source": [
    "import plotly.plotly as py\n",
    "from plotly.graph_objs import *\n",
    "\n",
    "trace0 = Scatter(\n",
    "    x=[1, 2, 3, 4],\n",
    "    y=[10, 15, 13, 17]\n",
    ")\n",
    "trace1 = Scatter(\n",
    "    x=[1, 2, 3, 4],\n",
    "    y=[16, 5, 11, 9]\n",
    ")\n",
    "data = Data([trace0, trace1])\n",
    "\n",
    "unique_url = py.plot(data, filename = 'basic-line')"
   ]
  },
  {
   "cell_type": "markdown",
   "metadata": {},
   "source": [
    "To embed the graph in the notebook, use `iplot` and do not assign it to anything. (If you figure out how to embed the graph after having assigned it to `unique_url`, please update this notebook)"
   ]
  },
  {
   "cell_type": "code",
   "execution_count": null,
   "metadata": {
    "collapsed": false
   },
   "outputs": [],
   "source": [
    "py.iplot(data, filename = 'basic-line')"
   ]
  },
  {
   "cell_type": "markdown",
   "metadata": {},
   "source": [
    "You can interact with the Plotly plots. Here is an excerpt from [Section 0 of the User Guide](https://plot.ly/python/overview/):\n",
    "\n",
    "---\n",
    "Plotly plots are fully interactive (even inside IPython notebooks):\n",
    "\n",
    "- Users can check the x and y coordinates of every point on the plot by hovering with the cursor.\n",
    "- By clicking and dragging the cursor over a region, Plotly zooms in on the plot and resizes lines, points and axes (not just a static zoom, try it!).\n",
    "- Hold the shift key while clicking and dragging to pan.\n",
    "- Finally, a double click on the plot zooms back out to the original version\n",
    "\n",
    "---\n",
    "\n",
    "## Matplotlib Converter\n",
    "Plotly is able to directly plot Matplotlib figures. You can also use the function below to create a Plotly graph.\n",
    "\n",
    "If the Matplotlib figure has a legend, Plotly can though some warnings and the legend will not be displayed correctly. One option is to not display the legend (not very useful). Another is to use the funciton below. Yet another is to rewrite stuff to work properly (please...it would help us all out). I think the function below produces a nicer output, but decide for yourself.\n",
    "\n",
    "To plot the Matplotlib firgure directly, you need to pass Plotly a Matplotlib `figure`. This can be done as easily as\n",
    "\n",
    "    py.plotly.iplot_mpl(plt.gcf())\n",
    "   \n",
    "if you call this from the same cell as where you generate the figure. If you try this in another cell, it will raise an exception. Because of this, you should assign the figure to a variable which can then be passed.\n",
    "\n",
    "When using the Plotly converter, the figure be resized by default. Use \n",
    "\n",
    "    py.plotly.iplot_mpl(plt.gcf(),resize = false)\n",
    "\n",
    "the function argument to keep the original size.\n",
    "\n",
    "You can also strip away the style of the Matplotlib figure and use the default Plotly style with \n",
    "\n",
    "    py.plotly.iplot_mpl(plt.gcf(),strip_style=True)\n",
    "        \n",
    "Since the figure size is part of the style, this will resize the figure as well. We'll show you this below."
   ]
  },
  {
   "cell_type": "code",
   "execution_count": null,
   "metadata": {
    "collapsed": false
   },
   "outputs": [],
   "source": [
    "from pylab import * \n",
    "import plotly as py\n",
    "\n",
    "def to_plotly(ax=None):\n",
    "    '''\n",
    "    converts a matplotlib plot to a inline plotly plot. \n",
    "    '''\n",
    "    if ax is None:\n",
    "        ax = gca()\n",
    "    \n",
    "    lines = []\n",
    "    for line in ax.get_lines():\n",
    "        lines.append({'x': line.get_xdata(),\n",
    "                      'y': line.get_ydata(),\n",
    "                      'name': line.get_label(),\n",
    "                      })\n",
    "   \n",
    "    \n",
    "    layout = {'title':ax.get_title(),\n",
    "              'xaxis':{'title':ax.get_xlabel()},\n",
    "              'yaxis':{'title':ax.get_ylabel()}\n",
    "              }\n",
    "    filename = ax.get_title()  if ax.get_title() != '' else 'Untitled'\n",
    "    print filename\n",
    "    close('all')\n",
    "    #return lines, layout\n",
    "    return py.plotly.iplot(lines,layout=layout, filename = filename)    "
   ]
  },
  {
   "cell_type": "markdown",
   "metadata": {},
   "source": [
    "## Get some data "
   ]
  },
  {
   "cell_type": "code",
   "execution_count": null,
   "metadata": {
    "collapsed": false
   },
   "outputs": [],
   "source": [
    "import skrf as rf\n",
    "\n",
    "# import some sample data for a Network \n",
    "from skrf.data import ring_slot, ring_slot_meas\n",
    "\n",
    "# note: using tex seems to eat up  all non-text legend entries\n",
    "rcParams['text.usetex']=False \n",
    "\n",
    "# set the Matplotlib stye\n",
    "rf.stylely()"
   ]
  },
  {
   "cell_type": "markdown",
   "metadata": {},
   "source": [
    "## dB Magnitude  (db)\n",
    "\n",
    "### matplotlib"
   ]
  },
  {
   "cell_type": "code",
   "execution_count": null,
   "metadata": {
    "collapsed": false
   },
   "outputs": [],
   "source": [
    "fig_ring_slot = ring_slot.plot_s_db(title= 'Ring Slot Magnitude')"
   ]
  },
  {
   "cell_type": "markdown",
   "metadata": {},
   "source": [
    "### Plotly Function"
   ]
  },
  {
   "cell_type": "code",
   "execution_count": null,
   "metadata": {
    "collapsed": false
   },
   "outputs": [],
   "source": [
    "ring_slot.plot_s_db(title= 'Ring Slot Magnitude')\n",
    "to_plotly()"
   ]
  },
  {
   "cell_type": "markdown",
   "metadata": {},
   "source": [
    "### Plotly from Matplotlib\n",
    "Passing the figure straight in with no options. This show raise warnings because of the legend."
   ]
  },
  {
   "cell_type": "code",
   "execution_count": null,
   "metadata": {
    "collapsed": false
   },
   "outputs": [],
   "source": [
    "ring_slot.plot_s_db(title= 'Ring Slot Magnitude')\n",
    "iplot(plt.gcf())"
   ]
  },
  {
   "cell_type": "code",
   "execution_count": null,
   "metadata": {
    "collapsed": false
   },
   "outputs": [],
   "source": [
    "from plotly import iplot_mpl"
   ]
  },
  {
   "cell_type": "markdown",
   "metadata": {},
   "source": [
    "Now with no legend."
   ]
  },
  {
   "cell_type": "code",
   "execution_count": null,
   "metadata": {
    "collapsed": false
   },
   "outputs": [],
   "source": [
    "ring_slot.plot_s_db(title= 'Ring Slot Magnitude', show_legend=False)\n",
    "py.plotly.iplot_mpl(plt.gcf(),filename='ringSlot_no_legend')"
   ]
  },
  {
   "cell_type": "markdown",
   "metadata": {},
   "source": [
    "Without resizing"
   ]
  },
  {
   "cell_type": "code",
   "execution_count": null,
   "metadata": {
    "collapsed": false
   },
   "outputs": [],
   "source": [
    "ring_slot.plot_s_db(title= 'Ring Slot Magnitude', show_legend=False)\n",
    "py.plotly.iplot_mpl(plt.gcf(), resize=False, filename='ringSlot_no_resize')"
   ]
  },
  {
   "cell_type": "markdown",
   "metadata": {},
   "source": [
    "Strip the style away"
   ]
  },
  {
   "cell_type": "code",
   "execution_count": null,
   "metadata": {
    "collapsed": false
   },
   "outputs": [],
   "source": [
    "ring_slot.plot_s_db(title= 'Ring Slot Magnitude', show_legend=False)\n",
    "py.plotly.iplot_mpl(plt.gcf(), strip_style=True, filename='ringSlot_legend_strip')"
   ]
  },
  {
   "cell_type": "markdown",
   "metadata": {},
   "source": [
    "## Phase (deg)\n",
    "\n",
    "### matplotlib"
   ]
  },
  {
   "cell_type": "code",
   "execution_count": null,
   "metadata": {
    "collapsed": false
   },
   "outputs": [],
   "source": [
    "ring_slot.plot_s_deg(title= 'Ring Slot Phase')"
   ]
  },
  {
   "cell_type": "markdown",
   "metadata": {},
   "source": [
    "### plotly"
   ]
  },
  {
   "cell_type": "code",
   "execution_count": null,
   "metadata": {
    "collapsed": false
   },
   "outputs": [],
   "source": [
    "ring_slot.plot_s_deg(title= 'Ring Slot Phase')\n",
    "to_plotly()"
   ]
  },
  {
   "cell_type": "markdown",
   "metadata": {},
   "source": [
    "## Complex"
   ]
  },
  {
   "cell_type": "markdown",
   "metadata": {},
   "source": [
    "### matplotlib"
   ]
  },
  {
   "cell_type": "code",
   "execution_count": null,
   "metadata": {
    "collapsed": false
   },
   "outputs": [],
   "source": [
    "ring_slot.plot_s_complex()"
   ]
  },
  {
   "cell_type": "markdown",
   "metadata": {},
   "source": [
    "### plotly"
   ]
  },
  {
   "cell_type": "code",
   "execution_count": null,
   "metadata": {
    "collapsed": false
   },
   "outputs": [],
   "source": [
    "ring_slot.plot_s_complex()\n",
    "# not implmented:preserve aspect ratio\n",
    "to_plotly()"
   ]
  },
  {
   "cell_type": "markdown",
   "metadata": {},
   "source": [
    "## Smith Chart"
   ]
  },
  {
   "cell_type": "markdown",
   "metadata": {},
   "source": [
    "### matplotlib"
   ]
  },
  {
   "cell_type": "code",
   "execution_count": null,
   "metadata": {
    "collapsed": false
   },
   "outputs": [],
   "source": [
    "ring_slot.plot_s_smith()"
   ]
  },
  {
   "cell_type": "markdown",
   "metadata": {},
   "source": [
    "### plotly"
   ]
  },
  {
   "cell_type": "code",
   "execution_count": null,
   "metadata": {
    "collapsed": false
   },
   "outputs": [],
   "source": [
    "import plotly\n",
    "plot(rand(100))\n",
    "plotly.plotly.iplot_mpl(gcf())"
   ]
  },
  {
   "cell_type": "code",
   "execution_count": null,
   "metadata": {
    "collapsed": false
   },
   "outputs": [],
   "source": [
    "\n",
    "\n",
    "def iplot_mpl(*args,**kw):\n",
    "    iplot(plotly.tools.mpl_to_plotly(*args,**kw))\n",
    "    \n",
    "    #plotly.plotly.iplot_mpl??\n",
    "rf.stylely()\n",
    "rf.data.ring_slot.plot_s_db()\n",
    "iplot_mpl(gcf())"
   ]
  },
  {
   "cell_type": "code",
   "execution_count": null,
   "metadata": {
    "collapsed": false
   },
   "outputs": [],
   "source": [
    "ring_slot.plot_s_smith()\n",
    "# not implmented: everything\n",
    "to_plotly()"
   ]
  },
  {
   "cell_type": "code",
   "execution_count": null,
   "metadata": {
    "collapsed": false
   },
   "outputs": [],
   "source": []
  }
 ],
 "metadata": {
  "anaconda-cloud": {},
  "kernelspec": {
   "display_name": "Python [conda env:py35]",
   "language": "python",
   "name": "conda-env-py35-py"
  },
  "language_info": {
   "codemirror_mode": {
    "name": "ipython",
    "version": 3
   },
   "file_extension": ".py",
   "mimetype": "text/x-python",
   "name": "python",
   "nbconvert_exporter": "python",
   "pygments_lexer": "ipython3",
   "version": "3.5.2"
  }
 },
 "nbformat": 4,
 "nbformat_minor": 0
}
