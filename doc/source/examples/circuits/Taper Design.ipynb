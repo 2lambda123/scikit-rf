{
 "cells": [
  {
   "cell_type": "markdown",
   "metadata": {},
   "source": [
    "# Taper Design"
   ]
  },
  {
   "cell_type": "code",
   "execution_count": null,
   "metadata": {
    "collapsed": false
   },
   "outputs": [],
   "source": [
    "from skrf.taper import Taper1D\n",
    "from skrf.media import RectangularWaveguide\n",
    "from skrf import Frequency\n",
    "\n",
    "from pylab import * \n"
   ]
  },
  {
   "cell_type": "code",
   "execution_count": null,
   "metadata": {
    "collapsed": false
   },
   "outputs": [],
   "source": [
    "from scipy.constants import mil, inch \n",
    "\n",
    "\n",
    "smoothstep = lambda x: (3*x**2 - 2*x**3) # smoothstep function\n",
    "linear = lambda x: x \n",
    "\n",
    "\n",
    "freq = Frequency(75,110,101,'ghz')\n",
    "\n",
    "\n",
    "taper = Taper1D(med= RectangularWaveguide, \n",
    "                param='a', \n",
    "                start=100*mil, \n",
    "                stop=200*mil,\n",
    "                length=1*inch,\n",
    "                n_sections=101,\n",
    "                f=linear,\n",
    "                kw = {'frequency':freq})"
   ]
  },
  {
   "cell_type": "code",
   "execution_count": null,
   "metadata": {
    "collapsed": false
   },
   "outputs": [],
   "source": [
    "taper.media_at(100*mil)"
   ]
  },
  {
   "cell_type": "code",
   "execution_count": null,
   "metadata": {
    "collapsed": false
   },
   "outputs": [],
   "source": [
    "taper.section_at(100*mil)\n"
   ]
  },
  {
   "cell_type": "code",
   "execution_count": null,
   "metadata": {
    "collapsed": false
   },
   "outputs": [],
   "source": [
    "\n",
    "for k in [linear, smoothstep]:\n",
    "    taper.f = k\n",
    "    x=linspace(0,1,taper.n_sections)\n",
    "    \n",
    "    plot(x,array([k[50].z0[0,0].imag for k in taper.sections]).flatten())\n",
    "\n",
    "ylabel('$Z_0$')\n",
    "xlabel('Taper Position')"
   ]
  },
  {
   "cell_type": "code",
   "execution_count": null,
   "metadata": {
    "collapsed": false
   },
   "outputs": [],
   "source": [
    "from IPython.core.display import HTML\n",
    "\n",
    "\n",
    "def css_styling():\n",
    "    styles = open(\"./styles/plotly.css\", \"r\").read()\n",
    "    return HTML(styles)\n",
    "css_styling()"
   ]
  },
  {
   "cell_type": "code",
   "execution_count": null,
   "metadata": {
    "collapsed": false
   },
   "outputs": [],
   "source": []
  }
 ],
 "metadata": {
  "anaconda-cloud": {},
  "kernelspec": {
   "display_name": "Python [default]",
   "language": "python",
   "name": "python3"
  },
  "language_info": {
   "codemirror_mode": {
    "name": "ipython",
    "version": 3
   },
   "file_extension": ".py",
   "mimetype": "text/x-python",
   "name": "python",
   "nbconvert_exporter": "python",
   "pygments_lexer": "ipython3",
   "version": "3.5.2"
  }
 },
 "nbformat": 4,
 "nbformat_minor": 0
}
