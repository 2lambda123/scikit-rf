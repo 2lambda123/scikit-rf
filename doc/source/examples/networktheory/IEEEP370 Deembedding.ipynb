{
 "cells": [
  {
   "cell_type": "markdown",
   "metadata": {},
   "source": [
    "# IEEEP370 Deembedding\n",
    "\n",
    "## Target\n",
    "\n",
    "The aim of this example is to illustrate the use of IEEEP370 deembedding methods."
   ]
  },
  {
   "cell_type": "code",
   "execution_count": null,
   "metadata": {},
   "outputs": [],
   "source": [
    "%load_ext autoreload\n",
    "%autoreload 2\n",
    "import skrf as rf\n",
    "import matplotlib.pyplot as plt\n",
    "from skrf.calibration import Ieeep370nzc2xthru\n",
    "from skrf.calibration import Ieeep370zc2xthru\n",
    "from skrf.media import MLine\n",
    "rf.stylely()"
   ]
  },
  {
   "cell_type": "markdown",
   "metadata": {},
   "source": [
    "## Simulation of DUT and Fixtures\n",
    "Inspired by [this example](https://scikit-rf.readthedocs.io/en/latest/examples/networktheory/Time%20domain%20reflectometry%2C%20measurement%20vs%20simulation.html)."
   ]
  },
  {
   "cell_type": "code",
   "execution_count": null,
   "metadata": {},
   "outputs": [],
   "source": [
    "freq = rf.F(1e-3,10,10000, 'ghz')\n",
    "W   = 3.20e-3 #3.00e-3 for 50 ohm\n",
    "H   = 1.51e-3\n",
    "T   = 50e-6\n",
    "ep_r = 4.413\n",
    "tanD = 0.0182\n",
    "f_epr_tand = 1e9\n",
    "# microstrip segments\n",
    "MSL1 = MLine(frequency=freq, z0=50, w=W, h=H, t=T,\n",
    "        ep_r=ep_r, mu_r=1, rho=1.712e-8, tand=tanD, rough=0.15e-6,\n",
    "        f_low=1e3, f_high=1e12, f_epr_tand=f_epr_tand,\n",
    "        diel='djordjevicsvensson', disp='kirschningjansen')\n",
    "# capacitive 3 x width Beatty structure\n",
    "MSL2 = MLine(frequency=freq, z0=50, w=3*W, h=H, t=T,\n",
    "        ep_r=ep_r, mu_r=1, rho=1.712e-8, tand=tanD, rough=0.15e-6,\n",
    "        f_low=1e3, f_high=1e12, f_epr_tand=f_epr_tand,\n",
    "        diel='djordjevicsvensson', disp='kirschningjansen')\n",
    "# microstrip segment with a 20% variation of width\n",
    "MSL3 = MLine(frequency=freq, z0=50, w=0.8*W, h=H, t=T,\n",
    "        ep_r=ep_r, mu_r=1, rho=1.712e-8, tand=tanD, rough=0.15e-6,\n",
    "        f_low=1e3, f_high=1e12, f_epr_tand=f_epr_tand,\n",
    "        diel='djordjevicsvensson', disp='kirschningjansen')\n",
    "# building DUT\n",
    "dut =    MSL1.line(20e-3, 'm', embed=True, z0=MSL1.Z0_f) \\\n",
    "      ** MSL2.line(20e-3, 'm', embed=True, z0=MSL2.Z0_f) \\\n",
    "      ** MSL1.line(20e-3, 'm', embed=True, z0=MSL1.Z0_f)\n",
    "dut.name = 'dut'\n",
    "# building FIXTURE-DUT-FIXTURE\n",
    "thru1 = MSL1.line(20e-3, 'm', embed=True, z0=MSL1.Z0_f)\n",
    "thru3 = MSL3.line(20e-3, 'm', embed=True, z0=MSL3.Z0_f)\n",
    "fdf     = thru1 ** dut ** thru1\n",
    "fdf.name = 'fdf'\n",
    "# building FIXTURE-FIXTURE with a 20% width variation from FIXTURE-DUT-FIXTURE(2xthru)\n",
    "s2xthru = thru3 ** thru3\n",
    "s2xthru.name = 's2xthru'"
   ]
  },
  {
   "cell_type": "markdown",
   "metadata": {},
   "source": [
    "## Looking at generated networks\n",
    "There is a need to extrapolate DC point to plot time step data."
   ]
  },
  {
   "cell_type": "code",
   "execution_count": null,
   "metadata": {},
   "outputs": [],
   "source": [
    "plt.figure(figsize=(10, 5))\n",
    "plt.subplot(1, 2, 1)\n",
    "plt.title('Time Step')\n",
    "dut_dc = dut.extrapolate_to_dc(kind='cubic')\n",
    "fdf_dc = fdf.extrapolate_to_dc(kind='cubic')\n",
    "s2xthru_dc = s2xthru.extrapolate_to_dc(kind='cubic')\n",
    "dut_dc.s11.plot_z_time_step(window='hamming')\n",
    "fdf_dc.s11.plot_z_time_step(window='hamming')\n",
    "s2xthru_dc.s11.plot_z_time_step(window='hamming')\n",
    "plt.xlim((-2, 2))\n",
    "plt.ylim((15, 55))\n",
    "plt.legend(loc = 'lower left')\n",
    "plt.subplot(1, 2, 2)\n",
    "plt.title('Frequency')\n",
    "dut.s11.plot_s_db()\n",
    "fdf.s11.plot_s_db()\n",
    "s2xthru.s11.plot_s_db()"
   ]
  },
  {
   "cell_type": "markdown",
   "metadata": {},
   "source": [
    "## IEEEP370 nzc2xthru (no impedance correction)\n",
    "This method only take 2xthru as input. It is quite simple and efficient but cannot correct for the difference of impedance between the lines of FIXTURE-FIXTURE and FIXTURE-DUT-FIXTURE. Of course this difference is not wanted, but it could occurs depending manufacturing process or if the artefacts are not built on the same board."
   ]
  },
  {
   "cell_type": "code",
   "execution_count": null,
   "metadata": {},
   "outputs": [],
   "source": [
    "dm_nzc = Ieeep370nzc2xthru(dummy_2xthru = s2xthru, name = '2xthru')\n",
    "nzc_side1 = dm_nzc.s_side1\n",
    "nzc_side1.name = 'nzc_side1'\n",
    "nzc_side2 = dm_nzc.s_side2\n",
    "nzc_side2.name = 'nzc_side2'\n",
    "nzc_d_dut = dm_nzc.deembed(fdf)\n",
    "nzc_d_dut.name = 'nzc_d_dut'\n",
    "# plot them all\n",
    "plt.figure(figsize=(10, 5))\n",
    "plt.subplot(1, 2, 1)\n",
    "plt.title('Time Step')\n",
    "nzc_d_dut_dc = nzc_d_dut.extrapolate_to_dc(kind='cubic')\n",
    "dut_dc.s11.plot_z_time_step(window='hamming')\n",
    "nzc_d_dut_dc.s11.plot_z_time_step(window='hamming')\n",
    "fdf_dc.s11.plot_z_time_step(window='hamming')\n",
    "s2xthru_dc.s11.plot_z_time_step(window='hamming')\n",
    "plt.xlim((-2, 2))\n",
    "plt.ylim((15, 55))\n",
    "plt.legend(loc = 'lower left')\n",
    "plt.subplot(1, 2, 2)\n",
    "plt.title('Frequency')\n",
    "dut.plot_s_db(0, 0)\n",
    "nzc_d_dut.plot_s_db(0, 0)\n",
    "fdf.plot_s_db(0, 0)\n",
    "dut.plot_s_db(1, 0)\n",
    "nzc_d_dut.plot_s_db(1, 0)\n",
    "fdf.plot_s_db(1, 0)\n",
    "plt.ylim((-40, 5))"
   ]
  },
  {
   "cell_type": "markdown",
   "metadata": {},
   "source": [
    "The NZC deembedding has removed the delay of the fixture but, as expected, the difference of impedance between FIXTURE-FIXTURE and FIXTURE-DUT-FIXTURE are causing an impedance bounce in timestep."
   ]
  },
  {
   "cell_type": "markdown",
   "metadata": {},
   "source": [
    "## IEEEP370 zc2xthru (impedance correction)\n",
    "This method take 2xthru and FIXTURE-DUT-FIXTURE as inputs. It make a correction for the (unwanted) difference of impedance between the lines of FIXTURE-FIXTURE and FIXTURE-DUT-FIXTURE."
   ]
  },
  {
   "cell_type": "code",
   "execution_count": null,
   "metadata": {},
   "outputs": [],
   "source": [
    "dm_zc  = Ieeep370zc2xthru(dummy_2xthru = s2xthru, dummy_fix_dut_fix = fdf,\n",
    "                         bandwidth_limit = 10e9, pullback1 = 0, pullback2 = 0,\n",
    "                         leadin = 0,\n",
    "                         name = 'zc2xthru')\n",
    "zc_d_dut = dm_zc.deembed(fdf)\n",
    "zc_d_dut.name = 'zc_d_dut'\n",
    "zc_side1 = dm_zc.s_side1\n",
    "zc_side1.name = 'zc_side1'\n",
    "zc_side2 = dm_zc.s_side2\n",
    "zc_side2.name = 'zc_side2'\n",
    "# plot them all\n",
    "plt.figure(figsize=(10, 5))\n",
    "plt.subplot(1, 2, 1)\n",
    "plt.title('Time Step')\n",
    "zc_d_dut_dc = zc_d_dut.extrapolate_to_dc(kind='cubic')\n",
    "dut_dc.s11.plot_z_time_step(window='hamming')\n",
    "zc_d_dut_dc.s11.plot_z_time_step(window='hamming')\n",
    "fdf_dc.s11.plot_z_time_step(window='hamming')\n",
    "s2xthru_dc.s11.plot_z_time_step(window='hamming')\n",
    "plt.xlim((-2, 2))\n",
    "plt.ylim((15, 55))\n",
    "plt.legend(loc = 'lower left')\n",
    "plt.subplot(1, 2, 2)\n",
    "plt.title('Frequency')\n",
    "dut.plot_s_db(0, 0)\n",
    "zc_d_dut.plot_s_db(0, 0)\n",
    "fdf.plot_s_db(0, 0)\n",
    "dut.plot_s_db(1, 0)\n",
    "zc_d_dut.plot_s_db(1, 0)\n",
    "fdf.plot_s_db(1, 0)\n",
    "plt.ylim((-40, 5))"
   ]
  },
  {
   "cell_type": "markdown",
   "metadata": {},
   "source": [
    "As expected, the ZC deembedding show a better agreeement on time step than NZC. This is most because this example has a slight impedance difference between FIXTURE-FIXTURE and FIXTURE-DUT-FIXTURE. This difference should be minimized as much as possible at manufacturing stage."
   ]
  },
  {
   "cell_type": "markdown",
   "metadata": {},
   "source": [
    "## Consistency checks\n",
    "IEEEP370 recommand following consistency checks:\n",
    "- Self de-embedding of 2x-thru with absolute magnitude of residual insertion loss < 0.1 dB and phase < 1 degree\n",
    "- Compare the TDR of the fixture model to the FIX-DUT-FIX (already done in above examples)\n"
   ]
  },
  {
   "cell_type": "code",
   "execution_count": null,
   "metadata": {},
   "outputs": [],
   "source": [
    "test1_nzc = nzc_side1.inv ** s2xthru ** nzc_side2.inv\n",
    "test1_nzc.name = 'nzc'\n",
    "test1_nzc.s += 1e-12 # remove numeric singularities\n",
    "test1_zc  = zc_side1.inv ** s2xthru ** zc_side2.inv\n",
    "test1_zc.name = 'zc'\n",
    "test1_zc.s += 1e-12 # remove numeric singularities\n",
    "plt.figure(figsize=(10,5))\n",
    "plt.subplot(2, 1, 1)\n",
    "test1_nzc.plot_s_db(1,0)\n",
    "test1_zc.plot_s_db(1,0)\n",
    "plt.ylim((-0.2, 0.2))\n",
    "plt.subplot(2, 1, 2)\n",
    "test1_nzc.plot_s_deg(1,0)\n",
    "test1_zc.plot_s_deg(1,0)\n",
    "#plt.ylim((-1, 1))"
   ]
  },
  {
   "cell_type": "markdown",
   "metadata": {},
   "source": [
    "The ZC deembedding, while giving a better agreement in time domain does not pass the consistency check. For the magnitude, this is caused by the mismatch caused by impedance correction that is slight in this example and that should be minimized as much as possible.\n",
    "The phase does also deviate slightly and that is strange."
   ]
  },
  {
   "cell_type": "markdown",
   "metadata": {},
   "source": [
    "## Comparison with IEEEP370 Matlab code results\n",
    "A set of reference Matlab or Octave codes that implement the IEEEP370 NZC and ZC deembedding algorithms are available with an open source BSD-3-Clause license [on IEEE repo](https://opensource.ieee.org/elec-char/ieee-370/-/tree/master/TG1)\n",
    "\n",
    "However, not everyone has access to Matlab and RF Toolbox. Maybe, this is one of the reasons you are reading this text looking forward to using scikit-rf and Python.\n",
    "\n",
    "A compiled binary of Matlab routine with a gui is available [on Amphenol website](https://www.amphenol-cs.com/software) with the name \"ACS De-embedding Utility\".\n",
    "<img src=\"AICC_Deembedding.png\">\n",
    "\n",
    "Let's compare the output of this tool on scikit-rf port of deembedding algorithms (make last `if` of this notebook `True` to generate `s2xthru` and `fdf` .s2p files and feed the software)."
   ]
  },
  {
   "cell_type": "code",
   "execution_count": null,
   "metadata": {
    "scrolled": false
   },
   "outputs": [],
   "source": [
    "nzc_ref = rf.Network('deembedded_SE_NZC_fdf.s2p')\n",
    "zc_ref = rf.Network('deembedded_SE_ZC_fdf.s2p')\n",
    "nzc_ref_dc = nzc_ref.extrapolate_to_dc(kind='cubic')\n",
    "zc_ref_dc = zc_ref.extrapolate_to_dc(kind='cubic')\n",
    "# plot them all\n",
    "plt.figure()\n",
    "plt.title('Time Step')\n",
    "dut_dc.s11.plot_z_time_step(window='hamming')\n",
    "nzc_d_dut_dc.s11.plot_z_time_step(window='hamming', color = 'r', marker = 'd', linestyle='None')\n",
    "zc_d_dut_dc.s11.plot_z_time_step(window='hamming', color = 'g', marker = 's', linestyle='None')\n",
    "nzc_ref_dc.s11.plot_z_time_step(window='hamming', color = 'r')\n",
    "zc_ref_dc.s11.plot_z_time_step(window='hamming', color = 'g')\n",
    "plt.xlim((-2, 2))\n",
    "plt.ylim((15, 55))\n",
    "plt.legend(loc = 'lower left')"
   ]
  },
  {
   "cell_type": "code",
   "execution_count": null,
   "metadata": {},
   "outputs": [],
   "source": [
    "if False:\n",
    "    s2xthru.write_touchstone()\n",
    "    fdf.write_touchstone()"
   ]
  },
  {
   "cell_type": "code",
   "execution_count": null,
   "metadata": {},
   "outputs": [],
   "source": []
  }
 ],
 "metadata": {
  "kernelspec": {
   "display_name": "Python 3 (ipykernel)",
   "language": "python",
   "name": "python3"
  },
  "language_info": {
   "codemirror_mode": {
    "name": "ipython",
    "version": 3
   },
   "file_extension": ".py",
   "mimetype": "text/x-python",
   "name": "python",
   "nbconvert_exporter": "python",
   "pygments_lexer": "ipython3",
   "version": "3.9.12"
  }
 },
 "nbformat": 4,
 "nbformat_minor": 2
}
