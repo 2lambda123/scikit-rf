{
 "cells": [
  {
   "cell_type": "markdown",
   "metadata": {},
   "source": [
    "# IEEEP370 Deembedding\n",
    "\n",
    "## Target\n",
    "\n",
    "The aim of this example is to illustrate the use of IEEEP370 deembedding methods."
   ]
  },
  {
   "cell_type": "code",
   "execution_count": null,
   "metadata": {},
   "outputs": [],
   "source": [
    "%load_ext autoreload\n",
    "%autoreload 2\n",
    "import skrf as rf\n",
    "import matplotlib.pyplot as plt\n",
    "from skrf.calibration import Ieeep370nzc2xthru\n",
    "from skrf.calibration import Ieeep370zc2xthru\n",
    "from skrf.media import MLine\n",
    "rf.stylely()"
   ]
  },
  {
   "cell_type": "markdown",
   "metadata": {},
   "source": [
    "## Simulation of DUT and Fixtures\n",
    "Inspired by [this example](https://scikit-rf.readthedocs.io/en/latest/examples/networktheory/Time%20domain%20reflectometry%2C%20measurement%20vs%20simulation.html)."
   ]
  },
  {
   "cell_type": "code",
   "execution_count": null,
   "metadata": {},
   "outputs": [],
   "source": [
    "freq = rf.F(1e-3,10,10000, 'ghz')\n",
    "W   = 3.20e-3 #3.00e-3 for 50 ohm\n",
    "H   = 1.51e-3\n",
    "T   = 50e-6\n",
    "ep_r = 4.413\n",
    "tanD = 0.0182\n",
    "f_epr_tand = 1e9\n",
    "# microstrip segments\n",
    "MSL1 = MLine(frequency=freq, z0=50, w=W, h=H, t=T,\n",
    "        ep_r=ep_r, mu_r=1, rho=1.712e-8, tand=tanD, rough=0.15e-6,\n",
    "        f_low=1e3, f_high=1e12, f_epr_tand=f_epr_tand,\n",
    "        diel='djordjevicsvensson', disp='kirschningjansen')\n",
    "# capacitive 3 x width Beatty structure\n",
    "MSL2 = MLine(frequency=freq, z0=50, w=3*W, h=H, t=T,\n",
    "        ep_r=ep_r, mu_r=1, rho=1.712e-8, tand=tanD, rough=0.15e-6,\n",
    "        f_low=1e3, f_high=1e12, f_epr_tand=f_epr_tand,\n",
    "        diel='djordjevicsvensson', disp='kirschningjansen')\n",
    "# building DUT\n",
    "dut =    MSL1.line(20e-3, 'm', embed=True, z0=MSL1.Z0_f) \\\n",
    "      ** MSL2.line(20e-3, 'm', embed=True, z0=MSL2.Z0_f) \\\n",
    "      ** MSL1.line(20e-3, 'm', embed=True, z0=MSL1.Z0_f)\n",
    "dut.name = 'dut'\n",
    "# building FIXTURE-DUT-FIXTURE\n",
    "thru = MSL1.line(30e-3, 'm', embed=True, z0=MSL1.Z0_f)\n",
    "fdf     = thru ** dut ** thru\n",
    "fdf.name = 'fdf'\n",
    "# building FIXTURE-FIXTURE (2xthru)\n",
    "s2xthru = thru ** thru\n",
    "s2xthru.name = 's2xthru'"
   ]
  },
  {
   "cell_type": "markdown",
   "metadata": {},
   "source": [
    "## Looking at generated networks\n",
    "There is a need to extrapolate DC point to plot time step data."
   ]
  },
  {
   "cell_type": "code",
   "execution_count": null,
   "metadata": {},
   "outputs": [],
   "source": [
    "plt.figure(figsize=(10, 5))\n",
    "plt.subplot(1, 2, 1)\n",
    "plt.title('Time Step')\n",
    "dut_dc = dut.extrapolate_to_dc(kind='cubic')\n",
    "fdf_dc = fdf.extrapolate_to_dc(kind='cubic')\n",
    "s2xthru_dc = s2xthru.extrapolate_to_dc(kind='cubic')\n",
    "dut_dc.s11.plot_z_time_step(window='hamming')\n",
    "fdf_dc.s11.plot_z_time_step(window='hamming')\n",
    "s2xthru_dc.s11.plot_z_time_step(window='hamming')\n",
    "plt.xlim((-2, 2))\n",
    "plt.ylim((15, 55))\n",
    "plt.legend(loc = 'lower left')\n",
    "plt.subplot(1, 2, 2)\n",
    "plt.title('Frequency')\n",
    "dut.s11.plot_s_db()\n",
    "fdf.s11.plot_s_db()\n",
    "s2xthru.s11.plot_s_db()"
   ]
  },
  {
   "cell_type": "markdown",
   "metadata": {},
   "source": [
    "## IEEEP370 nzc2xthru (no impedance correction)"
   ]
  },
  {
   "cell_type": "code",
   "execution_count": null,
   "metadata": {},
   "outputs": [],
   "source": [
    "dm_nzc = Ieeep370nzc2xthru(dummy_2xthru = s2xthru, name = '2xthru')\n",
    "nzc_side1 = dm_nzc.s_side1\n",
    "nzc_side1.name = 'nzc_side1'\n",
    "nzc_side2 = dm_nzc.s_side2\n",
    "nzc_side2.name = 'nzc_side2'\n",
    "nzc_d_dut = dm_nzc.deembed(fdf)\n",
    "nzc_d_dut.name = 'nzc_d_dut'\n",
    "# plot them all\n",
    "plt.figure(figsize=(10, 5))\n",
    "plt.subplot(1, 2, 1)\n",
    "plt.title('Time Step')\n",
    "nzc_d_dut_dc = nzc_d_dut.extrapolate_to_dc(kind='cubic')\n",
    "dut_dc.s11.plot_z_time_step(window='hamming')\n",
    "nzc_d_dut_dc.s11.plot_z_time_step(window='hamming')\n",
    "fdf_dc.s11.plot_z_time_step(window='hamming')\n",
    "plt.xlim((-2, 2))\n",
    "plt.ylim((15, 55))\n",
    "plt.legend(loc = 'lower left')\n",
    "plt.subplot(1, 2, 2)\n",
    "plt.title('Frequency')\n",
    "dut.plot_s_db(0, 0)\n",
    "nzc_d_dut.plot_s_db(0, 0)\n",
    "fdf.plot_s_db(0, 0)\n",
    "dut.plot_s_db(1, 0)\n",
    "nzc_d_dut.plot_s_db(1, 0)\n",
    "fdf.plot_s_db(1, 0)\n",
    "plt.ylim((-40, 5))"
   ]
  },
  {
   "cell_type": "markdown",
   "metadata": {},
   "source": [
    "The NZC deembedding has removed the delay of the fixture but the impedance at t=0ns is wrong, causing an offset."
   ]
  },
  {
   "cell_type": "markdown",
   "metadata": {},
   "source": [
    "## IEEEP370 zc2xthru (impedance correction)"
   ]
  },
  {
   "cell_type": "code",
   "execution_count": null,
   "metadata": {},
   "outputs": [],
   "source": [
    "dm_zc  = Ieeep370zc2xthru(dummy_2xthru = s2xthru, dummy_fix_dut_fix = fdf,\n",
    "                         bandwidth_limit = 10e9, pullback1 = 0, pullback2 = 0,\n",
    "                         leadin = 1,\n",
    "                         name = 'zc2xthru')\n",
    "zc_d_dut = dm_zc.deembed(fdf)\n",
    "zc_d_dut.name = 'zc_d_dut'\n",
    "zc_side1 = dm_zc.s_side1\n",
    "zc_side1.name = 'nzc_side1'\n",
    "zc_side2 = dm_zc.s_side2\n",
    "zc_side2.name = 'nzc_side2'\n",
    "zc_d_dut = dm_zc.deembed(fdf)\n",
    "zc_d_dut.name = 'zc_d_dut'\n",
    "# plot them all\n",
    "plt.figure(figsize=(10, 5))\n",
    "plt.subplot(1, 2, 1)\n",
    "plt.title('Time Step')\n",
    "zc_d_dut_dc = zc_d_dut.extrapolate_to_dc(kind='cubic')\n",
    "dut_dc.s11.plot_z_time_step(window='hamming')\n",
    "zc_d_dut_dc.s11.plot_z_time_step(window='hamming')\n",
    "fdf_dc.s11.plot_z_time_step(window='hamming')\n",
    "plt.xlim((-2, 2))\n",
    "plt.ylim((15, 55))\n",
    "plt.legend(loc = 'lower left')\n",
    "plt.subplot(1, 2, 2)\n",
    "plt.title('Frequency')\n",
    "dut.plot_s_db(0, 0)\n",
    "zc_d_dut.plot_s_db(0, 0)\n",
    "fdf.plot_s_db(0, 0)\n",
    "dut.plot_s_db(1, 0)\n",
    "zc_d_dut.plot_s_db(1, 0)\n",
    "fdf.plot_s_db(1, 0)\n",
    "plt.ylim((-40, 5))"
   ]
  },
  {
   "cell_type": "markdown",
   "metadata": {},
   "source": [
    "The ZC deembedding show a better agreeement on time step and in the lower frequency domain."
   ]
  },
  {
   "cell_type": "markdown",
   "metadata": {},
   "source": [
    "## TODO\n",
    "IEEEP370 recommand following consistency checks:\n",
    "- Self de-embedding of 2x-thru with absolute magnitude of residual insertion loss < 0.1 dB and phase < 1 degree\n",
    "- Compare the TDR of the fixture model to the FIX-DUT-FIX\n"
   ]
  },
  {
   "cell_type": "code",
   "execution_count": null,
   "metadata": {},
   "outputs": [],
   "source": [
    "test1_nzc = nzc_side1.inv ** s2xthru ** nzc_side2.inv\n",
    "test1_nzc.name = 'nzc'\n",
    "test1_zc  = zc_side1.inv ** s2xthru ** zc_side2.inv\n",
    "test1_zc.name = 'zc'\n",
    "plt.figure(figsize=(10,5))\n",
    "plt.subplot(2, 1, 1)\n",
    "test1_nzc.plot_s_db(1,0)\n",
    "test1_zc.plot_s_db(1,0)\n",
    "plt.ylim((-0.1, 0.1))\n",
    "plt.subplot(2, 1, 2)\n",
    "test1_nzc.plot_s_deg(1,0)\n",
    "test1_zc.plot_s_deg(1,0)\n",
    "#plt.ylim((-1, 1))"
   ]
  },
  {
   "cell_type": "markdown",
   "metadata": {},
   "source": [
    "The ZC deembedding, while giving a better agreement in time domain does not pass the consistency check. It will be interesting to compare with IEEE reference implementation results."
   ]
  }
 ],
 "metadata": {
  "kernelspec": {
   "display_name": "Python 3 (ipykernel)",
   "language": "python",
   "name": "python3"
  },
  "language_info": {
   "codemirror_mode": {
    "name": "ipython",
    "version": 3
   },
   "file_extension": ".py",
   "mimetype": "text/x-python",
   "name": "python",
   "nbconvert_exporter": "python",
   "pygments_lexer": "ipython3",
   "version": "3.9.12"
  }
 },
 "nbformat": 4,
 "nbformat_minor": 2
}
