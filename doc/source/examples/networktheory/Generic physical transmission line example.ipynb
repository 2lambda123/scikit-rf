{
 "cells": [
  {
   "cell_type": "markdown",
   "metadata": {},
   "source": [
    "# Generic physical transmission line example"
   ]
  },
  {
   "cell_type": "code",
   "execution_count": null,
   "metadata": {},
   "outputs": [],
   "source": [
    "%load_ext autoreload\n",
    "%autoreload 2\n",
    "import skrf as rf\n",
    "import skrf.mathFunctions as mf\n",
    "import numpy as np\n",
    "from numpy import real, log, log10, sum, absolute, pi, sqrt\n",
    "import matplotlib.pyplot as plt\n",
    "from scipy.optimize import minimize, differential_evolution\n",
    "\n",
    "rf.stylely()"
   ]
  },
  {
   "cell_type": "markdown",
   "metadata": {},
   "source": [
    "## Measurement of two CPWG lines with different lenghts\n",
    "\n",
    "The measurement where performed the 21th March 2017 on a Anritsu MS46524B 20GHz Vector Network Analyser. The setup is a linear frequency sweep from 1MHz to 10GHz with 10'000 points. Output power is 0dBm, IF bandwidth is 1kHz and neither averaging nor smoothing are used.\n",
    "\n",
    "CPWGxxx is a L long, W wide, with a G wide gap to top ground, T thick copper coplanar waveguide on ground on a H height substrate with top and bottom ground plane. A closely spaced via wall is placed on both side of the line and the top and bottom ground planes are connected by many vias.\n",
    "\n",
    "| Name | L (mm) | W (mm) | G (mm) | H (mm) | T (um) | Substrate |\n",
    "| :--- | ---: | ---: | ---: | ---: | ---: | :--- |\n",
    "| MSL100 | 100 | 1.70 | 0.50 | 1.55 | 50 | FR-4 |\n",
    "| MSL200 | 200 | 1.70 | 0.50 | 1.55 | 50 | FR-4 |\n",
    "\n",
    "The milling of the artwork is performed mechanically with a lateral wall of 45°.\n",
    "\n",
    "The relative permittivity of the dielectric was assumed to be approximatively 4.5 for design purpose.\n",
    "\n",
    "![MSL100 and MSL200 iillustaration, both are microstripline, MSL200 is twice the length of MSL100](MSL_CPWG_100_200.jpg \"MSL100 and MSL200\")"
   ]
  },
  {
   "cell_type": "code",
   "execution_count": null,
   "metadata": {},
   "outputs": [],
   "source": [
    "# Load raw measurements\n",
    "TL100 = rf.Network('CPWG100.s2p')\n",
    "TL200 = rf.Network('CPWG200.s2p')\n",
    "\n",
    "plt.figure()\n",
    "plt.title('Raw measurement')\n",
    "TL100.plot_s_db()\n",
    "TL200.plot_s_db()\n",
    "plt.show()"
   ]
  },
  {
   "cell_type": "markdown",
   "metadata": {},
   "source": [
    "## Dielectric effective relative permittivity extraction by multiline method"
   ]
  },
  {
   "cell_type": "code",
   "execution_count": null,
   "metadata": {},
   "outputs": [],
   "source": [
    "#Make the missing reflect measurement\n",
    "#Reflect only affects sign of the corrected\n",
    "reflect = TL100.copy()\n",
    "reflect.s[:,0,0] = 1\n",
    "reflect.s[:,1,1] = 1\n",
    "reflect.s[:,1,0] = 0\n",
    "reflect.s[:,0,1] = 0\n",
    "\n",
    "# Perform NISTMultilineTRL algorithm\n",
    "cal = rf.NISTMultilineTRL([TL100, reflect, TL200], [1], [100e-3, 200e-3], er_est=3.0, refl_offset=[0])\n",
    "\n",
    "plt.figure()\n",
    "plt.title('Corrected lines')\n",
    "cal.apply_cal(TL100).plot_s_db()\n",
    "cal.apply_cal(TL200).plot_s_db()\n",
    "plt.show()"
   ]
  },
  {
   "cell_type": "code",
   "execution_count": null,
   "metadata": {},
   "outputs": [],
   "source": [
    "freq  = TL100.frequency\n",
    "f     = TL100.frequency.f\n",
    "f_ghz = TL100.frequency.f/1e9\n",
    "L     = 0.1\n",
    "A     = 0.0\n",
    "f_A   = 1e9\n",
    "Er0   = 2.0\n",
    "tand0 = 0.001\n",
    "f_epr_tand = 1e9\n",
    "x0 = [Er0, tand0]\n",
    "\n",
    "ep_r_mea = cal.er_eff.real\n",
    "A_mea    = 20/log(10)*cal.gamma.real\n",
    "\n",
    "def model(x, freq, ep_r_mea, A_mea, f_epr_tand, L):\n",
    "    ep_r = x[0]\n",
    "    tand = x[1]\n",
    "    m = rf.media.PhysicalLine(frequency=freq, z0=50, ep_r=ep_r, mu_r=1, tand=tand,\n",
    "                              f_low=1e3, f_high=1e18, f_epr_tand=f_epr_tand, diel='djordjevicsvensson')\n",
    "    ep_r_mod = m.ep_r_f.real\n",
    "    A_mod = m.alpha * log(10)/20\n",
    "    return sum((ep_r_mod - ep_r_mea)**2)  + 0.001*sum((20/log(10)*A_mod - A_mea)**2)\n",
    "\n",
    "res = minimize(model, x0, args=(TL100.frequency, ep_r_mea, A_mea, f_epr_tand, L),\n",
    "               bounds=[(2, 4), (0.001, 0.013)])\n",
    "ep_r = res.x[0]\n",
    "tand = res.x[1]\n",
    "\n",
    "print('epr={:.3f}, tand={:.4f} at {:.1f} GHz.'.format(ep_r, tand, f_epr_tand * 1e-9))\n",
    "\n",
    "m = rf.media.PhysicalLine(frequency=freq, z0=50, ep_r=ep_r, mu_r=1, tand=tand,\n",
    "                              f_low=1e3, f_high=1e18, f_epr_tand=f_epr_tand, diel='djordjevicsvensson')\n",
    "\n",
    "plt.figure()\n",
    "plt.suptitle('Effective relative permittivity and attenuation')\n",
    "plt.subplot(2,1,1)\n",
    "plt.ylabel('$\\epsilon_{r,eff}$')\n",
    "plt.plot(f_ghz, ep_r_mea, label='measured')\n",
    "plt.plot(f_ghz, m.ep_r_f.real, label='model')\n",
    "plt.legend()\n",
    "\n",
    "plt.subplot(2,1,2)\n",
    "plt.xlabel('Frequency [GHz]')\n",
    "plt.ylabel('A (dB/m)')\n",
    "plt.plot(f_ghz, A_mea, label='measured')\n",
    "plt.plot(f_ghz, 20/log(10)*m.alpha, label='model')\n",
    "plt.legend()\n",
    "plt.show()\n"
   ]
  },
  {
   "cell_type": "markdown",
   "metadata": {},
   "source": [
    "## Connectors effects estimation"
   ]
  },
  {
   "cell_type": "code",
   "execution_count": null,
   "metadata": {},
   "outputs": [],
   "source": [
    "Z0 = 51.5 # Guessed for time being\n",
    "\n",
    "half = m.line(L/2, 'm', embed=True, z0=Z0)\n",
    "\n",
    "coefs = cal.coefs\n",
    "r = mf.sqrt_phase_unwrap(coefs['forward reflection tracking'])\n",
    "s1 = np.array([[coefs['forward directivity'],r],\n",
    "        [r, coefs['forward source match']]]).transpose()\n",
    "\n",
    "conn = TL100.copy()\n",
    "conn.name = 'Connector'\n",
    "conn.s = s1\n",
    "conn = conn ** half.inv\n",
    "\n",
    "# delay estimation\n",
    "phi_conn = np.unwrap(np.angle(conn.s[:2000,1,0]))\n",
    "z = np.polyfit(f[:2000], phi_conn, 1)\n",
    "p = np.poly1d(z)\n",
    "delay = -z[0]/(2*np.pi)/2\n",
    "print('Connector delay: {:.0f} ps'.format(delay * 1e12))\n",
    "\n",
    "# connector model\n",
    "Z1 = 58 # Guessed for time being\n",
    "m2 = rf.media.PhysicalLine(m.frequency, z0=50, ep_r=1, mu_r=1, tand=0.02, A=0, f_A=1e9,\n",
    "                              f_low=1e3, f_high=1e12, f_epr_tand=1e9, diel='djordjevicsvensson')\n",
    "left = m2.line(delay * 1e9, 'ns', embed=True, z0=Z1)\n",
    "right = left.flipped()\n",
    "check = left ** right\n",
    "\n",
    "plt.figure()\n",
    "plt.suptitle('Connector effects')\n",
    "plt.subplot(2,1,1)\n",
    "plt.plot(f_ghz[:2000], phi_conn, label='measured')\n",
    "plt.plot(f_ghz, np.unwrap(np.angle(check.s[:,1,0])), label='model')\n",
    "plt.ylabel('phase (rad)')\n",
    "plt.legend()\n",
    "\n",
    "plt.subplot(2,1,2)\n",
    "conn.plot_s_db(1, 0, label='Measured')\n",
    "plt.plot(f_ghz, 20*np.log10(np.absolute(check.s[:,1,0])), label='model')\n",
    "plt.xlabel('Frequency (GHz)')\n",
    "plt.ylabel('Insertion Loss (dB)')\n",
    "plt.legend()\n",
    "plt.show()"
   ]
  },
  {
   "cell_type": "markdown",
   "metadata": {},
   "source": [
    "## Final check"
   ]
  },
  {
   "cell_type": "code",
   "execution_count": null,
   "metadata": {},
   "outputs": [],
   "source": [
    "DUT = m.line(L, 'm', embed=True, z0=51.5)\n",
    "DUT.name = 'model'\n",
    "\n",
    "Check = left ** DUT ** right\n",
    "Check.name = 'model with connectors'\n",
    "\n",
    "plt.figure()\n",
    "TL100.plot_s_db()\n",
    "Check.plot_s_db(1,0, color='k')\n",
    "Check.plot_s_db(0,0, color='k')\n",
    "plt.show()\n",
    "\n",
    "mod = left ** DUT ** right\n",
    "\n",
    "TL100_dc = TL100.extrapolate_to_dc(kind='linear')\n",
    "mod_dc = mod.extrapolate_to_dc(kind='linear')\n",
    "\n",
    "plt.figure()\n",
    "plt.suptitle('Left-right and right-left TDR')\n",
    "plt.subplot(2,1,1)\n",
    "TL100_dc.s11.plot_s_time_step(pad=2000, window='hamming', label='Measured L-R')\n",
    "mod_dc.s11.plot_s_time_step(pad=2000, window='hamming', label='Model L-R')\n",
    "plt.xlim(-2e-9, 4e-9)\n",
    "\n",
    "plt.subplot(2,1,2)\n",
    "TL100_dc.s22.plot_s_time_step(pad=2000, window='hamming', label='Measured R-L')\n",
    "mod_dc.s22.plot_s_time_step(pad=2000, window='hamming', label='Model R-L')\n",
    "plt.xlim(-2e-9, 4e-9)"
   ]
  },
  {
   "cell_type": "code",
   "execution_count": null,
   "metadata": {},
   "outputs": [],
   "source": []
  },
  {
   "cell_type": "code",
   "execution_count": null,
   "metadata": {},
   "outputs": [],
   "source": []
  },
  {
   "cell_type": "code",
   "execution_count": null,
   "metadata": {},
   "outputs": [],
   "source": []
  },
  {
   "cell_type": "code",
   "execution_count": null,
   "metadata": {},
   "outputs": [],
   "source": []
  }
 ],
 "metadata": {
  "kernelspec": {
   "display_name": "Python 3",
   "language": "python",
   "name": "python3"
  },
  "language_info": {
   "codemirror_mode": {
    "name": "ipython",
    "version": 3
   },
   "file_extension": ".py",
   "mimetype": "text/x-python",
   "name": "python",
   "nbconvert_exporter": "python",
   "pygments_lexer": "ipython3",
   "version": "3.6.1"
  }
 },
 "nbformat": 4,
 "nbformat_minor": 2
}
