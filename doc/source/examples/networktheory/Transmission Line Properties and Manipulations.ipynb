{
 "cells": [
  {
   "cell_type": "markdown",
   "metadata": {},
   "source": [
    "# Transmission Line Properties and Manipulations\n",
    "In this tutorial, `scikit-rf` is used to work with some classical transmissione line situations\n",
    ". \n",
    "\n",
    "First, let's make the necessary Python import statements:"
   ]
  },
  {
   "cell_type": "code",
   "execution_count": 183,
   "metadata": {},
   "outputs": [],
   "source": [
    "%matplotlib inline\n",
    "import skrf as rf \n",
    "from pylab import * "
   ]
  },
  {
   "cell_type": "code",
   "execution_count": 184,
   "metadata": {},
   "outputs": [
    {
     "name": "stderr",
     "output_type": "stream",
     "text": [
      "C:\\Users\\JH218595\\AppData\\Local\\Continuum\\anaconda3\\lib\\site-packages\\matplotlib\\style\\core.py:112: UserWarning: Style includes a parameter, 'interactive', that is not related to style.  Ignoring\n",
      "  _apply_style(rc)\n"
     ]
    }
   ],
   "source": [
    "rf.stylely()"
   ]
  },
  {
   "cell_type": "markdown",
   "metadata": {},
   "source": [
    "# Loaded transmission line\n",
    "Let's consider a lossy coaxial cable of characteristic impedance $Z_0=75 \\Omega$ of length $L=10 m$ and attenuation 0.02 Np/m. The cable is loaded with a $Z_L=150 \\Omega$ impedance. In `scikit-rf`, the line length is defined from the load, ie $z=0$ at the load and $z=L$ at the input of the transmission line.\n",
    "![](Impedance_matching_1.svg) "
   ]
  },
  {
   "cell_type": "markdown",
   "metadata": {},
   "source": [
    "The constants are defined:"
   ]
  },
  {
   "cell_type": "code",
   "execution_count": 185,
   "metadata": {},
   "outputs": [
    {
     "name": "stdout",
     "output_type": "stream",
     "text": [
      "Transmission line propagation constant: gamma =  [0.01904+10.47922511j] rad/m\n"
     ]
    }
   ],
   "source": [
    "freq = rf.Frequency(250, npoints=1, unit='MHz')\n",
    "Z_0 = 75  # Ohm\n",
    "Z_L = 150  # Ohm\n",
    "L = 12  # m\n",
    "lambd = rf.c/freq.f/sqrt(4)  # coaxial insulator eps_r=4\n",
    "alpha = 0.01904  # Np/m\n",
    "beta = 2*pi/lambd\n",
    "gamma = alpha + 1j*beta\n",
    "print('Transmission line propagation constant: gamma = ', gamma, 'rad/m')"
   ]
  },
  {
   "cell_type": "markdown",
   "metadata": {},
   "source": [
    "Let's create the transmission line `media` object: "
   ]
  },
  {
   "cell_type": "code",
   "execution_count": 186,
   "metadata": {},
   "outputs": [],
   "source": [
    "# if not passing the gamma parameter, it would assume that gamma = alpha + j*beta = 0 + j*1\n",
    "coax_line = rf.media.DefinedGammaZ0(frequency=freq, Z0=Z_0, gamma=gamma)"
   ]
  },
  {
   "cell_type": "markdown",
   "metadata": {},
   "source": [
    "### Input impedance and reflection coefficient"
   ]
  },
  {
   "cell_type": "markdown",
   "metadata": {},
   "source": [
    "`scikit-rf` brings few convenient functions to deal with transmission lines. They are detailled in the [transmission line functions](https://scikit-rf.readthedocs.io/en/latest/api/tlineFunctions.html) documentation pages. For example, the input impedance $Z_{in}$ can be calculated from:"
   ]
  },
  {
   "cell_type": "code",
   "execution_count": 187,
   "metadata": {},
   "outputs": [
    {
     "name": "stdout",
     "output_type": "stream",
     "text": [
      "Input impedance Z_in =  [113.96360293-8.71652627j]  Ohm\n"
     ]
    }
   ],
   "source": [
    "Z_in = rf.zl_2_zin(Z_0, Z_L, coax_line.electrical_length(L))\n",
    "print('Input impedance Z_in = ', Z_in, ' Ohm')"
   ]
  },
  {
   "cell_type": "markdown",
   "metadata": {},
   "source": [
    "and the reflection coefficient at the line input $\\Gamma_{in}$ from:"
   ]
  },
  {
   "cell_type": "code",
   "execution_count": 188,
   "metadata": {},
   "outputs": [
    {
     "name": "stdout",
     "output_type": "stream",
     "text": [
      "Reflection coefficient |Gamma_in| =  [0.21106856]\n"
     ]
    }
   ],
   "source": [
    "Gamma_in = rf.zl_2_Gamma_in(Z_0, Z_L, coax_line.electrical_length(L))\n",
    "print('Reflection coefficient |Gamma_in| = ', abs(Gamma_in))"
   ]
  },
  {
   "cell_type": "markdown",
   "metadata": {},
   "source": [
    "Or in Standing Wave Ratio seen at the line input:"
   ]
  },
  {
   "cell_type": "code",
   "execution_count": 189,
   "metadata": {},
   "outputs": [
    {
     "name": "stdout",
     "output_type": "stream",
     "text": [
      "SWR =  [1.53507452]\n"
     ]
    }
   ],
   "source": [
    "print('SWR = ', rf.Gamma0_2_swr(Gamma_in))"
   ]
  },
  {
   "cell_type": "markdown",
   "metadata": {},
   "source": [
    "Another possibility to obtain the input impedance is by building the circuit by [cascading](https://scikit-rf.readthedocs.io/en/latest/tutorials/Networks.html#Cascading-and-De-embedding) its various Network elements: [transmission line](https://scikit-rf.readthedocs.io/en/latest/api/media/generated/skrf.media.media.Media.line.html) of length $L$, a [resistor](https://scikit-rf.readthedocs.io/en/latest/api/media/generated/skrf.media.media.Media.resistor.html), then a [short](https://scikit-rf.readthedocs.io/en/latest/api/media/generated/skrf.media.media.Media.short.html). This results in a one-port network, which $Z$-parameter is then the input impedance: "
   ]
  },
  {
   "cell_type": "code",
   "execution_count": 190,
   "metadata": {},
   "outputs": [
    {
     "data": {
      "text/plain": [
       "array([[[113.96360293-8.71652627j]]])"
      ]
     },
     "execution_count": 190,
     "metadata": {},
     "output_type": "execute_result"
    }
   ],
   "source": [
    "ntw = coax_line.line(L, unit='m') ** coax_line.resistor(Z_L) ** coax_line.short()\n",
    "ntw.z"
   ]
  },
  {
   "cell_type": "markdown",
   "metadata": {},
   "source": [
    "The previous Network can also be built with convenience functions [load](https://scikit-rf.readthedocs.io/en/latest/api/media/generated/skrf.media.media.Media.load.html) or [delay_load](https://scikit-rf.readthedocs.io/en/latest/api/media/generated/skrf.media.media.Media.delay_load.html):"
   ]
  },
  {
   "cell_type": "code",
   "execution_count": 191,
   "metadata": {},
   "outputs": [
    {
     "data": {
      "text/plain": [
       "array([[[113.96360293-8.71652627j]]])"
      ]
     },
     "execution_count": 191,
     "metadata": {},
     "output_type": "execute_result"
    }
   ],
   "source": [
    "ntw = coax_line.line(L, unit='m') ** coax_line.load(rf.zl_2_Gamma0(Z_0, Z_L))\n",
    "ntw.z"
   ]
  },
  {
   "cell_type": "code",
   "execution_count": 192,
   "metadata": {},
   "outputs": [
    {
     "data": {
      "text/plain": [
       "array([[[113.96360293-8.71652627j]]])"
      ]
     },
     "execution_count": 192,
     "metadata": {},
     "output_type": "execute_result"
    }
   ],
   "source": [
    "ntw = coax_line.delay_load(rf.zl_2_Gamma0(Z_0, Z_L), L, unit='m')\n",
    "ntw.z"
   ]
  },
  {
   "cell_type": "markdown",
   "metadata": {},
   "source": [
    "### Voltages and Currents"
   ]
  },
  {
   "cell_type": "markdown",
   "metadata": {},
   "source": [
    "Now assume that the previous circuit is excited by a source delivering a voltage $V=80 V$ associated to a source impedance $Z_s=100\\Omega$ :\n",
    "![](Impedance_matching_with_source.svg)"
   ]
  },
  {
   "cell_type": "code",
   "execution_count": 193,
   "metadata": {},
   "outputs": [],
   "source": [
    "Z_s = 100  # Ohm\n",
    "V_s = 80  # V"
   ]
  },
  {
   "cell_type": "markdown",
   "metadata": {},
   "source": [
    "At the input of the transmission line, the voltage is a voltage divider circuit:\n",
    "$$\n",
    "V_{in} = V_s  \\frac{Z_{in}}{Z_s + Z_{in}}\n",
    "$$"
   ]
  },
  {
   "cell_type": "code",
   "execution_count": 194,
   "metadata": {},
   "outputs": [
    {
     "name": "stdout",
     "output_type": "stream",
     "text": [
      "Voltage at transmission line input : V_in =  [42.67241261-1.52066469j]  V\n"
     ]
    }
   ],
   "source": [
    "V_in = V_s * Z_in / (Z_s + Z_in)\n",
    "print('Voltage at transmission line input : V_in = ', V_in, ' V')"
   ]
  },
  {
   "cell_type": "markdown",
   "metadata": {},
   "source": [
    "and the current at the input of the transmission line is:\n",
    "$$\n",
    "I_{in} = \\frac{V_s}{Z_s + Z_{in}}\n",
    "$$"
   ]
  },
  {
   "cell_type": "code",
   "execution_count": 195,
   "metadata": {},
   "outputs": [
    {
     "name": "stdout",
     "output_type": "stream",
     "text": [
      "Current at transmission line input : I_in =  [0.37327587+0.01520665j]  A\n"
     ]
    }
   ],
   "source": [
    "I_in = V_s / (Z_s + Z_in)\n",
    "print('Current at transmission line input : I_in = ', I_in, ' A')"
   ]
  },
  {
   "cell_type": "markdown",
   "metadata": {},
   "source": [
    "which represent a power of \n",
    "$$\n",
    "P_{in} = \\frac{1}{2} \\Re \\left[V_{in} I_{in}^* \\right]\n",
    "$$"
   ]
  },
  {
   "cell_type": "code",
   "execution_count": 196,
   "metadata": {},
   "outputs": [
    {
     "name": "stdout",
     "output_type": "stream",
     "text": [
      "Input Power : P_in =  [7.95272895] W\n"
     ]
    }
   ],
   "source": [
    "P_in = 1/2 * real(V_in * conj(I_in))\n",
    "print('Input Power : P_in = ', P_in, 'W')"
   ]
  },
  {
   "cell_type": "markdown",
   "metadata": {},
   "source": [
    "The reflected power is:\n",
    "$$\n",
    "P_r = |\\Gamma_{in}|^2 P_{in}\n",
    "$$"
   ]
  },
  {
   "cell_type": "code",
   "execution_count": 197,
   "metadata": {},
   "outputs": [
    {
     "name": "stdout",
     "output_type": "stream",
     "text": [
      "Reflected power : P_r =  [0.35429356] W\n"
     ]
    }
   ],
   "source": [
    "P_r = abs(Gamma_in)**2 * P_in\n",
    "print('Reflected power : P_r = ', P_r, 'W')"
   ]
  },
  {
   "cell_type": "markdown",
   "metadata": {},
   "source": [
    "The voltage and current at the load can be deduced from the ABCD parameters of the line of length $L$ :"
   ]
  },
  {
   "cell_type": "code",
   "execution_count": 198,
   "metadata": {},
   "outputs": [
    {
     "name": "stdout",
     "output_type": "stream",
     "text": [
      "Voltage at load: V_out =  [37.32976691-3.45816874j] V\n",
      "Current at load: I_out =  [0.24886511-0.02305446j] A\n"
     ]
    }
   ],
   "source": [
    "V_out, I_out = rf.voltage_current_propagation(V_in, I_in, coax_line.z0, \n",
    "                                              theta=coax_line.electrical_length(L))\n",
    "print('Voltage at load: V_out = ', V_out, 'V')\n",
    "print('Current at load: I_out = ', I_out, 'A')"
   ]
  },
  {
   "cell_type": "code",
   "execution_count": 199,
   "metadata": {},
   "outputs": [
    {
     "name": "stdout",
     "output_type": "stream",
     "text": [
      "Power delivered to the load : P_out =  [4.68490143]  W\n"
     ]
    }
   ],
   "source": [
    "P_out = 1/2 * real(V_out * conj(I_out))\n",
    "print('Power delivered to the load : P_out = ', P_out, ' W')"
   ]
  },
  {
   "cell_type": "markdown",
   "metadata": {},
   "source": [
    "Voltage and current be plotted against the transmission line length (pay attention to the sign of $\\theta$ in the voltage and current propagation: as we go from source ($z=L$) to the load ($z=0$), $\\theta$ goes in the opposite direction and should be inversed)"
   ]
  },
  {
   "cell_type": "code",
   "execution_count": 200,
   "metadata": {},
   "outputs": [],
   "source": [
    "Ls = linspace(0, -L, num=101)\n",
    "f = linspace(1, 250, num=201)\n",
    "gamma = alpha + 1j*ones_like(f)\n",
    "\n",
    "# creating (nb_gamma, nb_f) array\n",
    "thetas = gamma[:, None]*Ls \n",
    "\n",
    "v1 = V_in*ones_like(Ls)\n",
    "i1 = I_in*ones_like(Ls)\n",
    "\n",
    "v2, i2 = rf.voltage_current_propagation(v1, i1, Z_0, theta=thetas)"
   ]
  },
  {
   "cell_type": "code",
   "execution_count": 210,
   "metadata": {},
   "outputs": [
    {
     "data": {
      "text/plain": [
       "Text(0.5, 1.0, 'Voltage')"
      ]
     },
     "execution_count": 210,
     "metadata": {},
     "output_type": "execute_result"
    },
    {
     "data": {
      "image/png": "[encoded data removed]",
      "text/plain": [
       "<Figure size 720x480 with 2 Axes>"
      ]
     },
     "metadata": {},
     "output_type": "display_data"
    }
   ],
   "source": [
    "fig, (ax_V, ax_I) = plt.subplots(2, 1, sharex=True)\n",
    "ax_V.plot(-Ls, abs(v2[0,:]), lw=2)\n",
    "ax_I.plot(-Ls, abs(i2[0,:]), lw=2, c='C1')\n",
    "ax_I.set_xlabel('z [m]')\n",
    "ax_V.set_ylabel('|V| [V]')\n",
    "ax_I.set_ylabel('|I| [A]')\n",
    "ax_V.invert_xaxis()\n",
    "\n",
    "ax_V.axvline(0, c='k', lw=5)\n",
    "ax_I.axvline(0, c='k', lw=5)\n",
    "ax_I.text(L-0.2, 0.4, 'input')\n",
    "ax_V.axvline(L, c='k', lw=5)\n",
    "ax_I.axvline(L, c='k', lw=5)\n",
    "ax_I.text(1, 0.35, 'load')\n",
    "ax_I.set_title('Current')\n",
    "ax_V.set_title('Voltage')"
   ]
  },
  {
   "cell_type": "markdown",
   "metadata": {},
   "source": [
    "# Determination of the propagation constant from input impedance\n",
    "Let's assume the input impedance of a short‐circuited lossy transmission line of length d=1.5 m and a characteristic impedance of $Z_0=$100 Ohm has been measured to $Z_{in}=40 - 280j \\Omega$. \n",
    "\n",
    "![](Impedance_matching_2.svg)\n",
    "\n",
    "The transmission line propagation constant $\\gamma$ is unknown and researched. Let see how to deduce its value  using `scikit-rf`:"
   ]
  },
  {
   "cell_type": "code",
   "execution_count": 179,
   "metadata": {},
   "outputs": [],
   "source": [
    "# input data\n",
    "z_in = 20 - 140j\n",
    "z_0 = 75\n",
    "d = 1.5\n",
    "Gamma_load = -1 # short"
   ]
  },
  {
   "cell_type": "markdown",
   "metadata": {},
   "source": [
    "Since we know the input impedance, we can deduce the reflection coefficient at the input of the transmission line. Since there is a direction relationship between the reflection coefficient at the load and at the input of the line:\n",
    "$$\n",
    "\\Gamma_{in} = \\Gamma_L e^{- 2 \\gamma d}\n",
    "$$\n",
    "we can deduce the propagation constant value $\\gamma$ as:\n",
    "$$\n",
    "\\gamma = -\\frac{1}{2d} \\ln \\left( \\frac{\\Gamma_{in}}{\\Gamma_l} \\right)\n",
    "$$\n",
    "This is what the convenience function `reflection_coefficient_2_propagation_constant` is doing:"
   ]
  },
  {
   "cell_type": "code",
   "execution_count": 180,
   "metadata": {},
   "outputs": [
    {
     "name": "stdout",
     "output_type": "stream",
     "text": [
      "Line propagation constant, gamma = [0.03920416+1.37070847j] rad/m\n"
     ]
    }
   ],
   "source": [
    "# reflection coefficient at input\n",
    "Gamma_in = rf.zl_2_Gamma0(z_0, z_in)\n",
    "# line propagation constant\n",
    "gamma = rf.reflection_coefficient_2_propagation_constant(Gamma_in, Gamma_load, d)\n",
    "print('Line propagation constant, gamma =', gamma, 'rad/m')"
   ]
  },
  {
   "cell_type": "markdown",
   "metadata": {},
   "source": [
    "One can check the consistency of the result by making the reverse calculation: the input impedance at a distance $d$ from the load $Z_l$:"
   ]
  },
  {
   "cell_type": "code",
   "execution_count": 181,
   "metadata": {},
   "outputs": [
    {
     "data": {
      "text/plain": [
       "array([20.-140.j])"
      ]
     },
     "execution_count": 181,
     "metadata": {},
     "output_type": "execute_result"
    }
   ],
   "source": [
    "rf.zl_2_zin(z_0, zl=0, theta=gamma * d)"
   ]
  },
  {
   "cell_type": "markdown",
   "metadata": {},
   "source": [
    "Which was indeed the value given as input of the example."
   ]
  },
  {
   "cell_type": "markdown",
   "metadata": {},
   "source": [
    "Now that the line propagation constant has been determined, one can replace the short by a load resistance:"
   ]
  },
  {
   "cell_type": "code",
   "execution_count": 182,
   "metadata": {},
   "outputs": [
    {
     "data": {
      "text/plain": [
       "array([37.90976384-20.46175538j])"
      ]
     },
     "execution_count": 182,
     "metadata": {},
     "output_type": "execute_result"
    }
   ],
   "source": [
    "rf.zl_2_zin(z_0, zl=50+50j, theta=gamma * d)"
   ]
  },
  {
   "cell_type": "markdown",
   "metadata": {},
   "source": [
    "## another example\n"
   ]
  },
  {
   "cell_type": "code",
   "execution_count": 368,
   "metadata": {},
   "outputs": [],
   "source": [
    "L = 7.5e-2\n",
    "f = 1e9\n",
    "z0 = 50\n",
    "Gamma_L=0.2\n",
    "\n",
    "gamma = 1j*2*pi*f/rf.c"
   ]
  },
  {
   "cell_type": "code",
   "execution_count": 369,
   "metadata": {},
   "outputs": [],
   "source": [
    "zin = rf.Gamma0_2_zin(z0, Gamma_L, gamma*L)"
   ]
  },
  {
   "cell_type": "code",
   "execution_count": 370,
   "metadata": {},
   "outputs": [
    {
     "data": {
      "text/plain": [
       "0.5095880689341147"
      ]
     },
     "execution_count": 370,
     "metadata": {},
     "output_type": "execute_result"
    }
   ],
   "source": [
    "pin = 4.328e-3\n",
    "sqrt(2*30*pin)#*(1 - abs(rf.Gamma0_2_Gamma_in(Gamma_L, gamma*L))**2)"
   ]
  },
  {
   "cell_type": "code",
   "execution_count": 371,
   "metadata": {},
   "outputs": [
    {
     "name": "stdout",
     "output_type": "stream",
     "text": [
      "[0.52631606+0.00022592j] [0.00831025-3.96358707e-07j]\n"
     ]
    }
   ],
   "source": [
    "vin = 1 * zin / (zin + 30)\n",
    "iin = vin / (zin + 30)\n",
    "print(vin, iin)"
   ]
  },
  {
   "cell_type": "code",
   "execution_count": 372,
   "metadata": {},
   "outputs": [
    {
     "name": "stdout",
     "output_type": "stream",
     "text": [
      "[-0.19999953+0.00043498j]\n",
      "[0.52631606+0.00022592j] [0.01578946-7.53073772e-06j]\n"
     ]
    }
   ],
   "source": [
    "Gamma_in = (rf.Gamma0_2_Gamma_in(Gamma_L, gamma*L))\n",
    "print(Gamma_in)  # OK\n",
    "vin = 1 * zin / (zin + 30) \n",
    "iin = vin / zin  # OK\n",
    "print(vin, iin)  # OK"
   ]
  },
  {
   "cell_type": "code",
   "execution_count": 375,
   "metadata": {},
   "outputs": [],
   "source": [
    "# voltage and current at load\n",
    "vl,il = rf.voltage_current_propagation(vin, iin, z0=50, theta=gamma*d)"
   ]
  },
  {
   "cell_type": "code",
   "execution_count": 376,
   "metadata": {},
   "outputs": [
    {
     "data": {
      "text/plain": [
       "array([0.00415512])"
      ]
     },
     "execution_count": 376,
     "metadata": {},
     "output_type": "execute_result"
    }
   ],
   "source": [
    "1/2*real(vin*conj(iin))  # OK"
   ]
  },
  {
   "cell_type": "code",
   "execution_count": 490,
   "metadata": {},
   "outputs": [],
   "source": [
    "freq = rf.Frequency(1, unit='GHz', npoints=1)\n",
    "line50 = rf.media.DefinedGammaZ0(frequency=freq, gamma=1j*beta, z0=50)\n",
    "line25 = rf.media.DefinedGammaZ0(frequency=freq, gamma=1j*beta, z0=25)\n",
    "\n",
    "port = rf.Circuit.Port(frequency=freq, z0=30, name='port')\n",
    "line1 = line50.line(7.5e-2, unit='m', name='line1')\n",
    "#line2 = line25.line(5e-2, unit='m', name='line2')\n",
    "load = line50.resistor(75, name='load', z0=75)\n",
    "gnd = rf.Circuit.Ground(frequency=freq, z0=75, name='gnd')\n",
    "\n",
    "cnx = [\n",
    "    [(port,0), (line1, 0)],\n",
    "    [(line1, 1), (load, 0)],\n",
    "    [(load, 1), (gnd,0)],\n",
    "]\n",
    "circuit = rf.Circuit(cnx)\n"
   ]
  },
  {
   "cell_type": "markdown",
   "metadata": {},
   "source": [
    "$$\n",
    "a_0 = \\frac{V_0 + z_{01} I_0}{\\sqrt{2 z_{01}}}\n",
    "$$"
   ]
  },
  {
   "cell_type": "code",
   "execution_count": 491,
   "metadata": {},
   "outputs": [
    {
     "name": "stdout",
     "output_type": "stream",
     "text": [
      "[0.00432825 0.         0.         0.         0.         0.        ]\n"
     ]
    }
   ],
   "source": [
    "a0 = (vin + 50*iin)/(2*sqrt(2*50))\n",
    "a = np.r_[a0, np.zeros(circuit.dim - 1)]\n",
    "b = circuit.s[0] @ a\n",
    "print(abs(a)**2)"
   ]
  },
  {
   "cell_type": "code",
   "execution_count": 493,
   "metadata": {},
   "outputs": [
    {
     "data": {
      "text/plain": [
       "(0.39335947316564834-0.35636586709714946j)"
      ]
     },
     "execution_count": 493,
     "metadata": {},
     "output_type": "execute_result"
    }
   ],
   "source": [
    "(b[3]+b[2])*sqrt(50)"
   ]
  },
  {
   "cell_type": "code",
   "execution_count": 494,
   "metadata": {},
   "outputs": [
    {
     "data": {
      "text/plain": [
       "array([0.00432825, 0.        , 0.        , 0.        , 0.        ,\n",
       "       0.        ])"
      ]
     },
     "execution_count": 494,
     "metadata": {},
     "output_type": "execute_result"
    }
   ],
   "source": [
    "abs(a)**2 "
   ]
  },
  {
   "cell_type": "code",
   "execution_count": 500,
   "metadata": {},
   "outputs": [
    {
     "data": {
      "text/plain": [
       "2.554130560369728"
      ]
     },
     "execution_count": 500,
     "metadata": {},
     "output_type": "execute_result"
    }
   ],
   "source": [
    "0.00044212/1.731e-4"
   ]
  },
  {
   "cell_type": "code",
   "execution_count": 506,
   "metadata": {},
   "outputs": [
    {
     "data": {
      "text/plain": [
       "(0.07123071443006612-0.013434029974652376j)"
      ]
     },
     "execution_count": 506,
     "metadata": {},
     "output_type": "execute_result"
    }
   ],
   "source": [
    "b[0]*sqrt(50/30)+b[1]*sqrt(30/50)"
   ]
  },
  {
   "cell_type": "code",
   "execution_count": 499,
   "metadata": {},
   "outputs": [
    {
     "data": {
      "text/plain": [
       "array([0.00044212, 0.00404806, 0.00016192, 0.00388614, 0.00097153,\n",
       "       0.00097153])"
      ]
     },
     "execution_count": 499,
     "metadata": {},
     "output_type": "execute_result"
    }
   ],
   "source": [
    "abs(b)**2"
   ]
  },
  {
   "cell_type": "code",
   "execution_count": null,
   "metadata": {},
   "outputs": [],
   "source": []
  },
  {
   "cell_type": "code",
   "execution_count": 437,
   "metadata": {},
   "outputs": [
    {
     "data": {
      "text/plain": [
       "[3, (2-Port Network: 'load',  1.0-1.0 GHz, 1 pts, z0=[50.+0.j 50.+0.j], 0)]"
      ]
     },
     "execution_count": 437,
     "metadata": {},
     "output_type": "execute_result"
    }
   ],
   "source": [
    "circuit.connections_list[3]"
   ]
  },
  {
   "cell_type": "code",
   "execution_count": 442,
   "metadata": {},
   "outputs": [
    {
     "data": {
      "text/plain": [
       "0.004209980229854337"
      ]
     },
     "execution_count": 442,
     "metadata": {},
     "output_type": "execute_result"
    }
   ],
   "source": [
    " abs(b[3])**2+abs(b[2])**2"
   ]
  },
  {
   "cell_type": "code",
   "execution_count": 427,
   "metadata": {},
   "outputs": [
    {
     "name": "stderr",
     "output_type": "stream",
     "text": [
      "C:\\Users\\JH218595\\AppData\\Local\\Continuum\\anaconda3\\lib\\site-packages\\ipykernel_launcher.py:1: RuntimeWarning: divide by zero encountered in true_divide\n",
      "  \"\"\"Entry point for launching an IPython kernel.\n"
     ]
    },
    {
     "data": {
      "text/plain": [
       "array([0.31960444,        inf,        inf,        inf,        inf,\n",
       "              inf])"
      ]
     },
     "execution_count": 427,
     "metadata": {},
     "output_type": "execute_result"
    }
   ],
   "source": [
    "abs(b/a)"
   ]
  },
  {
   "cell_type": "code",
   "execution_count": 474,
   "metadata": {},
   "outputs": [
    {
     "data": {
      "text/plain": [
       "(0.8059320340366877-0.09137896856733994j)"
      ]
     },
     "execution_count": 474,
     "metadata": {},
     "output_type": "execute_result"
    }
   ],
   "source": [
    "(b[0] + b[1])*sqrt(50)"
   ]
  },
  {
   "cell_type": "code",
   "execution_count": 472,
   "metadata": {},
   "outputs": [
    {
     "data": {
      "text/plain": [
       "(0.013151462869737575+0.004377892377547588j)"
      ]
     },
     "execution_count": 472,
     "metadata": {},
     "output_type": "execute_result"
    }
   ],
   "source": [
    "(b[1] - b[0])/sqrt(50)*2\n"
   ]
  },
  {
   "cell_type": "code",
   "execution_count": 332,
   "metadata": {},
   "outputs": [
    {
     "data": {
      "text/plain": [
       "array([ 0.00202887, -0.00202887,  0.        ,  0.        ,  0.        ,\n",
       "        0.        ])"
      ]
     },
     "execution_count": 332,
     "metadata": {},
     "output_type": "execute_result"
    }
   ],
   "source": [
    "1/2*np.real(Vs*Is.conj())"
   ]
  },
  {
   "cell_type": "code",
   "execution_count": 408,
   "metadata": {},
   "outputs": [
    {
     "data": {
      "text/plain": [
       "array([[[0.25914923-0.1870526j]]])"
      ]
     },
     "execution_count": 408,
     "metadata": {},
     "output_type": "execute_result"
    }
   ],
   "source": [
    "circuit.network.s"
   ]
  },
  {
   "cell_type": "code",
   "execution_count": null,
   "metadata": {},
   "outputs": [],
   "source": []
  }
 ],
 "metadata": {
  "kernelspec": {
   "display_name": "Python 3",
   "language": "python",
   "name": "python3"
  },
  "language_info": {
   "codemirror_mode": {
    "name": "ipython",
    "version": 3
   },
   "file_extension": ".py",
   "mimetype": "text/x-python",
   "name": "python",
   "nbconvert_exporter": "python",
   "pygments_lexer": "ipython3",
   "version": "3.6.8"
  }
 },
 "nbformat": 4,
 "nbformat_minor": 2
}
