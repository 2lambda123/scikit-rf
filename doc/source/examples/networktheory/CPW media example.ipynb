{
 "cells": [
  {
   "cell_type": "markdown",
   "metadata": {},
   "source": [
    "# CPW media example"
   ]
  },
  {
   "cell_type": "code",
   "execution_count": null,
   "metadata": {},
   "outputs": [],
   "source": [
    "%load_ext autoreload\n",
    "%autoreload 2\n",
    "import skrf as rf\n",
    "from skrf.calibration import IEEEP370_SE_NZC_2xThru\n",
    "from skrf.media import CPW\n",
    "import numpy as np\n",
    "import matplotlib.pyplot as plt\n",
    "\n",
    "rf.stylely()"
   ]
  },
  {
   "cell_type": "markdown",
   "metadata": {},
   "source": [
    "## Measurement of two CPWG lines with different lengths\n",
    "\n",
    "The measurement where performed the 21th March 2017 on a Anritsu MS46524B 20GHz Vector Network Analyser. The setup is a linear frequency sweep from 1MHz to 10GHz with 10'000 points. Output power is 0dBm, IF bandwidth is 1kHz and neither averaging nor smoothing are used.\n",
    "\n",
    "CPWGxxx is a L long, W wide, with a G wide gap to top ground, T thick copper coplanar waveguide on ground on a H height substrate with top and bottom ground plane. A closely spaced via wall is placed on both side of the line and the top and bottom ground planes are connected by many vias.\n",
    "\n",
    "| Name | L (mm) | W (mm) | G (mm) | H (mm) | T (um) | Substrate |\n",
    "| :--- | ---: | ---: | ---: | ---: | ---: | :--- |\n",
    "| CPW100 | 100 | 1.70 | 0.50 | 1.55 | 50 | FR-4 |\n",
    "| CPW200 | 200 | 1.70 | 0.50 | 1.55 | 50 | FR-4 |\n",
    "\n",
    "The milling of the artwork is performed mechanically with a lateral wall of 45°.\n",
    "\n",
    "The relative permittivity of the dielectric was assumed to be approximately 4.5 for design purpose.\n",
    "\n",
    "![MSL100 and MSL200 illustration, both are microstripline, MSL200 is twice the length of MSL100](MSL_CPWG_100_200.jpg \"MSL100 and MSL200\")"
   ]
  },
  {
   "cell_type": "markdown",
   "metadata": {},
   "source": [
    "## Removing connectors effects\n",
    "\n",
    "The SMA connectors cause a discontinuity in the signal path. The waves have to go trough a coaxial to planar transition with a complex three dimensionnal geometry in the launch region.\n",
    "\n",
    "By deembedding the smaller length line from the longer line, the connector and a quarter of line will be removed on both sides."
   ]
  },
  {
   "cell_type": "code",
   "execution_count": null,
   "metadata": {},
   "outputs": [],
   "source": [
    "# Load raw measurements\n",
    "TL100 = rf.Network('CPWG100.s2p')\n",
    "TL200 = rf.Network('CPWG200.s2p')\n",
    "TL100_dc = TL100.extrapolate_to_dc(kind='linear')\n",
    "TL200_dc = TL200.extrapolate_to_dc(kind='linear')\n",
    "\n",
    "# deembedding\n",
    "dm = IEEEP370_SE_NZC_2xThru(dummy_2xthru = TL100, name = '2xthru')\n",
    "side1 = dm.s_side1\n",
    "side1.name = 'side1'\n",
    "side2 = dm.s_side2\n",
    "side2.name = 'side2'\n",
    "d_dut = dm.deembed(TL200)\n",
    "d_dut.name = 'd_dut'\n",
    "side1_dc = side1.extrapolate_to_dc(kind='cubic')\n",
    "side2_dc = side2.extrapolate_to_dc(kind='cubic')\n",
    "d_dut_dc = d_dut.extrapolate_to_dc(kind='cubic')\n",
    "\n",
    "# plot them all\n",
    "plt.figure()\n",
    "plt.suptitle('Time domain reflexion step response (DC extrapolation)')\n",
    "TL100_dc.s11.plot_z_time_step()\n",
    "TL200_dc.s11.plot_z_time_step()\n",
    "side1_dc.s11.plot_z_time_step()\n",
    "side2_dc.s22.plot_z_time_step()\n",
    "d_dut_dc.s11.plot_z_time_step()\n",
    "plt.xlim(-2, 4)\n",
    "plt.show()"
   ]
  },
  {
   "cell_type": "markdown",
   "metadata": {},
   "source": [
    "## Check deembedding\n",
    "Looks at the residuals by deembedding two sides models from 2xthru. Residuals insertion magnitude shall be ± 0.1 dB and residual insertion loss phase shall be within ± 1°.\n",
    "\n",
    "This is the case for insertion loss magnitude but the phase exhibit a curious 180° step portion."
   ]
  },
  {
   "cell_type": "code",
   "execution_count": null,
   "metadata": {},
   "outputs": [],
   "source": [
    "# compute residuals\n",
    "res = side1.inv ** TL100 ** side2.inv\n",
    "res.name = 'residuals'\n",
    "res.s += 1e-15 # avoid numeric singularities\n",
    "\n",
    "# plot them all\n",
    "plt.figure(figsize=(10, 5))\n",
    "plt.subplot(1, 2, 1)\n",
    "res.plot_s_db(1,0)\n",
    "plt.subplot(1, 2, 2)\n",
    "res.plot_s_deg(1,0)"
   ]
  },
  {
   "cell_type": "markdown",
   "metadata": {},
   "source": [
    "## Comparison of dembedded with same length line with connectors\n",
    "Deembedding of connectors and lanch remove frequency rising slope in return loss and some length and ringing in insertion loss. "
   ]
  },
  {
   "cell_type": "code",
   "execution_count": null,
   "metadata": {},
   "outputs": [],
   "source": [
    "# plot them all\n",
    "plt.figure(figsize=(10, 5))\n",
    "plt.subplot(2, 2, 1)\n",
    "d_dut.plot_s_db(0,0)\n",
    "TL100.plot_s_db(0,0)\n",
    "plt.subplot(2, 2, 2)\n",
    "d_dut.plot_s_deg(0,0)\n",
    "TL100.plot_s_deg(0,0)\n",
    "plt.subplot(2, 2, 3)\n",
    "d_dut.plot_s_db(1,0)\n",
    "TL100.plot_s_db(1,0)\n",
    "plt.subplot(2, 2, 4)\n",
    "d_dut.plot_s_deg(1,0)\n",
    "TL100.plot_s_deg(1,0)"
   ]
  },
  {
   "cell_type": "markdown",
   "metadata": {},
   "source": [
    "## Comparison with media\n",
    "Effect of metallization thickness is neglected."
   ]
  },
  {
   "cell_type": "code",
   "execution_count": null,
   "metadata": {
    "scrolled": true
   },
   "outputs": [],
   "source": [
    "ep_r = 4.5\n",
    "tanD = 0.018\n",
    "\n",
    "cpw = CPW(frequency=d_dut.frequency, w = 1.7e-3, s = 0.5e-3, t = None, h = 1.55e-3,\n",
    "        ep_r = ep_r, tand = tanD, rho = 1.7e-8, Z0 = 50, has_metal_backside = True,\n",
    "         compatibility_mode = 'ads')\n",
    "l = cpw.line(d = 100.0e-3, unit = 'm', embed = True, z0 = cpw.Z0)\n",
    "l.name = 'CPW ads'\n",
    "\n",
    "cpw2 = CPW(frequency=d_dut.frequency, w = 5.6e-3, s = 0.5e-3, t = None, h = 1.55e-3,\n",
    "        ep_r = ep_r, tand = tanD, rho = 1.7e-8, Z0 = 50, has_metal_backside = True,\n",
    "        compatibility_mode = 'qucs')\n",
    "l2 = cpw2.line(d = 100.0e-3, unit = 'm', embed = True, z0 = cpw2.Z0)\n",
    "l2.name = 'CPW qucs'\n",
    "\n",
    "# plot them all\n",
    "plt.figure(figsize=(10, 10))\n",
    "plt.subplot(2,2,1)\n",
    "d_dut.plot_s_db(0,0)\n",
    "l.plot_s_db(0,0, marker = '.', linestyle = 'none', markevery = 10)\n",
    "l2.plot_s_db(0,0, marker = 'x', linestyle = 'none', markevery = 10)\n",
    "plt.subplot(2,2,2)\n",
    "d_dut.plot_s_deg(0,0)\n",
    "l.plot_s_deg(0,0, marker = '.', linestyle = 'none', markevery = 100)\n",
    "l2.plot_s_deg(0,0, marker = '.', linestyle = 'none', markevery = 100)\n",
    "plt.subplot(2,2,3)\n",
    "d_dut.plot_s_db(1,0)\n",
    "l.plot_s_db(1,0, marker = '.', linestyle = 'none', markevery = 200)\n",
    "l2.plot_s_db(1,0, marker = 'x', linestyle = 'none', markevery = 200)\n",
    "plt.subplot(2,2,4)\n",
    "d_dut.plot_s_deg(1,0)\n",
    "l.plot_s_deg(1,0, marker = '.', linestyle = 'none', markevery = 100)\n",
    "l2.plot_s_deg(1,0, marker = '.', linestyle = 'none', markevery = 100)\n"
   ]
  },
  {
   "cell_type": "code",
   "execution_count": null,
   "metadata": {},
   "outputs": [],
   "source": []
  }
 ],
 "metadata": {
  "kernelspec": {
   "display_name": "Python 3",
   "language": "python",
   "name": "python3"
  },
  "language_info": {
   "codemirror_mode": {
    "name": "ipython",
    "version": 3
   },
   "file_extension": ".py",
   "mimetype": "text/x-python",
   "name": "python",
   "nbconvert_exporter": "python",
   "pygments_lexer": "ipython3",
   "version": "3.8.5"
  }
 },
 "nbformat": 4,
 "nbformat_minor": 4
}
