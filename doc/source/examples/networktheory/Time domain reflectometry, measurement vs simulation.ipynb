{
 "cells": [
  {
   "cell_type": "markdown",
   "metadata": {},
   "source": [
    "# Time domain reflectometry, measurement vs simulation"
   ]
  },
  {
   "cell_type": "markdown",
   "metadata": {},
   "source": [
    "## Setup"
   ]
  },
  {
   "cell_type": "code",
   "execution_count": null,
   "metadata": {},
   "outputs": [],
   "source": [
    "%matplotlib inline\n",
    "import skrf\n",
    "import numpy as np\n",
    "import matplotlib.pyplot as plt\n",
    "skrf.stylely()"
   ]
  },
  {
   "cell_type": "markdown",
   "metadata": {},
   "source": [
    "## Load data"
   ]
  },
  {
   "cell_type": "code",
   "execution_count": null,
   "metadata": {},
   "outputs": [],
   "source": [
    "#load all measurement and simulation data into a dictionary\n",
    "meas = skrf.read_all_networks('tdr_measurement_vs_simulation/measurement/')\n",
    "simu = skrf.read_all_networks('tdr_measurement_vs_simulation/simulation/')\n",
    "\n",
    "# DUT\n",
    "meas['P1-MSL_Stepped_140-P2'] = meas['P1-MSL_Stepped_140-P2'].extrapolate_to_dc(kind='linear', dc_sparam=[[0,1],[1,0]])\n",
    "simu['MSL_Stepped_140'] = simu['MSL_Stepped_140'].extrapolate_to_dc(kind='linear', dc_sparam=[[0,1],[1,0]])\n",
    "meas['P1-MSL_Short_50'] = meas['P1-MSL_Short_50'].extrapolate_to_dc(kind='linear', dc_sparam=[[-1]])\n",
    "simu['MSL_Short_50'] = simu['MSL_Short_50'].extrapolate_to_dc(kind='linear', dc_sparam=[[-1]])\n",
    "meas['P1-MSL_Open_50']  = meas['P1-MSL_Open_50'].extrapolate_to_dc(kind='linear', dc_sparam=[[1]])\n",
    "simu['MSL_Open_50']  = simu['MSL_Open_50'].extrapolate_to_dc(kind='linear', dc_sparam=[[1]])\n",
    "meas['P1-MSL_Load_50']  = meas['P1-MSL_Load_50'].extrapolate_to_dc(kind='linear', dc_sparam=[[0]])\n",
    "simu['MSL_Load_50']  = simu['MSL_Load_50'].extrapolate_to_dc(kind='linear', dc_sparam=[[0]])"
   ]
  },
  {
   "cell_type": "markdown",
   "metadata": {},
   "source": [
    "## comparison\n",
    "### Stepped line"
   ]
  },
  {
   "cell_type": "code",
   "execution_count": null,
   "metadata": {},
   "outputs": [],
   "source": [
    "plt.figure()\n",
    "plt.title('Stepped line')\n",
    "meas['P1-MSL_Stepped_140-P2'].s11.plot_z_time_step(window='hamming', pad=5000, label='measurement')\n",
    "simu['MSL_Stepped_140'].s11.plot_z_time_step(window='hamming', pad=5000, label='simulation')\n",
    "plt.xlim((-1e-9, 3e-9))"
   ]
  },
  {
   "cell_type": "markdown",
   "metadata": {},
   "source": [
    "### Short, open, load"
   ]
  },
  {
   "cell_type": "code",
   "execution_count": null,
   "metadata": {},
   "outputs": [],
   "source": [
    "plt.figure()\n",
    "plt.title('Short, open, load')\n",
    "meas['P1-MSL_Short_50'].plot_s_time_step(window='hamming', label='short meas')\n",
    "meas['P1-MSL_Open_50'].plot_s_time_step(window='hamming', label='open meas')\n",
    "meas['P1-MSL_Load_50'].plot_s_time_step(window='hamming', label='load meas')\n",
    "simu['MSL_Short_50'].plot_s_time_step(window='hamming', label='short simu')\n",
    "simu['MSL_Open_50'].plot_s_time_step(window='hamming', label='open simu')\n",
    "simu['MSL_Load_50'].plot_s_time_step(window='hamming', label='load simu')\n",
    "plt.xlim((-1e-9, 3e-9))"
   ]
  },
  {
   "cell_type": "markdown",
   "metadata": {},
   "source": [
    "## Simulation"
   ]
  },
  {
   "cell_type": "code",
   "execution_count": null,
   "metadata": {},
   "outputs": [],
   "source": [
    "freq = skrf.F(1,10e3,10000, 'mhz')\n",
    "\n",
    "# Mechanical section in meter\n",
    "W   = 3.00e-3\n",
    "H   = 1.51e-3\n",
    "T   = 50e-6\n",
    "# epsilon_r and tand at 1.0 GHz.\n",
    "f_epr_tand = 1e9\n",
    "epr = 4.369\n",
    "tand = 0.0157 \n",
    "\n",
    "# 50 ohm segment\n",
    "MSL1 = skrf.media.MLine(frequency=freq, z0=50, w=W, h=H, t=T,\n",
    "        ep_r=epr, mu_r=1, rho=1.712e-8, tand=tand, rough=0.15e-6,\n",
    "        f_low=1e3, f_high=1e12, f_epr_tand=f_epr_tand,\n",
    "        diel='djordjevicsvensson', disp='kirschningjansen')\n",
    "\n",
    "# Capacitive segment\n",
    "MSL2 = skrf.media.MLine(frequency=freq, z0=50, w=8.0e-3, h=H, t=T,\n",
    "        ep_r=epr, mu_r=1, rho=1.712e-8, tand=tand, rough=0.15e-6,\n",
    "        f_low=1e3, f_high=1e12, f_epr_tand=f_epr_tand,\n",
    "        diel='djordjevicsvensson', disp='kirschningjansen')\n",
    "\n",
    "# Inductive segment\n",
    "MSL3 = skrf.media.MLine(frequency=freq, z0=50, w=1.0e-3, h=H, t=T,\n",
    "        ep_r=epr, mu_r=1, rho=1.712e-8, tand=tand, rough=0.15e-6,\n",
    "        f_low=1e3, f_high=1e12, f_epr_tand=f_epr_tand,\n",
    "        diel='djordjevicsvensson', disp='kirschningjansen')\n",
    "\n",
    "step_simu = MSL1.line(50e-3, 'm', embed=True, z0=MSL1.Z0_f) \\\n",
    "      ** MSL2.line(20e-3, 'm', embed=True, z0=MSL2.Z0_f) \\\n",
    "      ** MSL3.line(20e-3, 'm', embed=True, z0=MSL3.Z0_f) \\\n",
    "      ** MSL1.line(50e-3, 'm', embed=True, z0=MSL1.Z0_f)\n",
    "step_simu.name = 'MSL_Stepped_140'\n",
    "\n",
    "short_simu = MSL1.delay_short(50e-3, 'm', embed=True, z0=MSL1.Z0_f)\n",
    "short_simu.name = 'MSL_Short_50'\n",
    "open_simu = MSL1.delay_open(50e-3, 'm', embed=True, z0=MSL1.Z0_f)\n",
    "open_simu.name = 'MSL_Open_50'\n",
    "load_simu = MSL1.delay_load(0, 50e-3, 'm', embed=True, z0=MSL1.Z0_f)\n",
    "load_simu.name = 'MSL_Load_50'\n",
    "    \n",
    "write_data = False\n",
    "if write_data:\n",
    "    step_simu.write_touchstone(dir='tdr_measurement_vs_simulation/simulation/')\n",
    "    short_simu.write_touchstone(dir='tdr_measurement_vs_simulation/simulation/')\n",
    "    open_simu.write_touchstone(dir='tdr_measurement_vs_simulation/simulation/')\n",
    "    load_simu.write_touchstone(dir='tdr_measurement_vs_simulation/simulation/')"
   ]
  },
  {
   "cell_type": "code",
   "execution_count": null,
   "metadata": {},
   "outputs": [],
   "source": []
  }
 ],
 "metadata": {
  "kernelspec": {
   "display_name": "Python 3",
   "language": "python",
   "name": "python3"
  },
  "language_info": {
   "codemirror_mode": {
    "name": "ipython",
    "version": 3
   },
   "file_extension": ".py",
   "mimetype": "text/x-python",
   "name": "python",
   "nbconvert_exporter": "python",
   "pygments_lexer": "ipython3",
   "version": "3.6.1"
  }
 },
 "nbformat": 4,
 "nbformat_minor": 2
}
