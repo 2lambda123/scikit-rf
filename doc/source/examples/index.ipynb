{
 "cells": [
  {
   "cell_type": "markdown",
   "metadata": {},
   "source": [
    "# Examples"
   ]
  },
  {
   "cell_type": "markdown",
   "metadata": {},
   "source": [
    "Below are examples which demonstrate some applications of scikit-rf. They are written in the form of [ipython notebooks](http://ipython.org/notebook.html).  These live in https://github.com/scikit-rf/examples."
   ]
  },
  {
   "cell_type": "markdown",
   "metadata": {},
   "source": [
    "## Metrology"
   ]
  },
  {
   "cell_type": "markdown",
   "metadata": {},
   "source": [
    "- [Calibration With Three Receivers](three_receiver_cal/Calibration With Three Receivers.ipynb)\n",
    "\n",
    "- [TwoPortOnePath, EnhancedResponse, and FakeFlip](three_receiver_cal/TwoPortOnePath, EnhancedResponse, and FakeFlip.ipynb)\n",
    "\n",
    "- [One Port, Two-Tier Calibration](oneport_tiered_calibration/One Port Tiered Calibration.ipynb )\n",
    "\n",
    "- [Measuring a Mutiport Device with a 2-Port Network Analyzer](Measuring a Mutiport Device with a 2-Port Network Analyzer.ipynb)"
   ]
  },
  {
   "cell_type": "markdown",
   "metadata": {},
   "source": [
    "## Network Theory"
   ]
  },
  {
   "cell_type": "markdown",
   "metadata": {},
   "source": [
    "- [Time Domain](Time Domain.ipynb)\n",
    "\n",
    "- [Properties of Rectangular Waveguides](Properties of Rectangular Waveguides.ipynb)\n",
    "\n",
    "- [Renormalizing S-parameters](Renormalizing S-parameters.ipynb)\n",
    "\n",
    "- [Interactive Mismatched Line](Interactive Mismatched Line.ipynb)"
   ]
  },
  {
   "cell_type": "markdown",
   "metadata": {},
   "source": [
    "## NetworkSets"
   ]
  },
  {
   "cell_type": "markdown",
   "metadata": {},
   "source": [
    "* [Sorting Network Sets](Sorting Network Sets.ipynb)"
   ]
  },
  {
   "cell_type": "markdown",
   "metadata": {},
   "source": [
    "## Plotting"
   ]
  },
  {
   "cell_type": "markdown",
   "metadata": {},
   "source": [
    "- [Modeling RG-58](Modeling RG-58.ipynb)\n",
    "\n",
    "- [Plots With Plotly](Plots With Plotly.ipynb)\n",
    "\n",
    "- [XKCD styling](XKCD styling.ipynb)\n",
    "\n",
    "- [mpl-styles](mpl-styles.ipynb)"
   ]
  },
  {
   "cell_type": "markdown",
   "metadata": {},
   "source": [
    "## Instrument Control/Automation"
   ]
  },
  {
   "cell_type": "markdown",
   "metadata": {},
   "source": [
    "- [VNA Control](VNA Control.ipynb)"
   ]
  },
  {
   "cell_type": "markdown",
   "metadata": {},
   "source": [
    "## Internals"
   ]
  },
  {
   "cell_type": "markdown",
   "metadata": {},
   "source": [
    "- [Network v2](Network2.ipynb)"
   ]
  }
 ],
 "metadata": {
  "anaconda-cloud": {},
  "kernelspec": {
   "display_name": "Python [default]",
   "language": "python",
   "name": "python3"
  },
  "language_info": {
   "codemirror_mode": {
    "name": "ipython",
    "version": 3
   },
   "file_extension": ".py",
   "mimetype": "text/x-python",
   "name": "python",
   "nbconvert_exporter": "python",
   "pygments_lexer": "ipython3",
   "version": "3.5.2"
  }
 },
 "nbformat": 4,
 "nbformat_minor": 0
}
