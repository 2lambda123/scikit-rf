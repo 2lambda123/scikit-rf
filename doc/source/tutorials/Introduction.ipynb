{
 "cells": [
  {
   "cell_type": "raw",
   "metadata": {},
   "source": [
    ".. _introduction:\n",
    "|\n",
    "|\n",
    "Download This Notebook: :download:`Introduction.ipynb`"
   ]
  },
  {
   "cell_type": "markdown",
   "metadata": {},
   "source": [
    "# Introduction"
   ]
  },
  {
   "cell_type": "markdown",
   "metadata": {},
   "source": [
    "This is a brief introduction to **skrf** which highlights a range of features without going into detail on any single one.  The intended audience are those who have a working python stack, and are somewhat familiar with python. If you are completely  new to  python,  see scipy's [Getting Started](http://www.scipy.org/Getting_Started)\n",
    "\n",
    "\n",
    "These tutorials  are written in the form of jupyter notebooks, and can be downloaded \n",
    "\n",
    "Throughout this tutorial, and the rest of the scikit-rf documentation, it is  assumed that **skrf** has been imported as ``rf``. Whether or not you follow this convention in your own code is up to you. "
   ]
  },
  {
   "cell_type": "code",
   "execution_count": 3,
   "metadata": {
    "collapsed": false
   },
   "outputs": [],
   "source": [
    "import skrf as rf\n",
    "rf.setup_pylab()"
   ]
  },
  {
   "cell_type": "markdown",
   "metadata": {},
   "source": [
    "If this produces an error, please see the :doc:`installation` tutorial."
   ]
  },
  {
   "cell_type": "markdown",
   "metadata": {},
   "source": [
    "## Details"
   ]
  },
  {
   "cell_type": "markdown",
   "metadata": {},
   "source": [
    "### Styling Plots"
   ]
  },
  {
   "cell_type": "markdown",
   "metadata": {},
   "source": [
    "**skrf**  has a function which updates your  [matplotlib rcParams](http://matplotlib.org/users/customizing.html) so that plots appear like the ones shown in these tutorials. "
   ]
  },
  {
   "cell_type": "code",
   "execution_count": 4,
   "metadata": {
    "collapsed": false
   },
   "outputs": [
    {
     "name": "stderr",
     "output_type": "stream",
     "text": [
      "/home/alex/anaconda3/envs/py35/lib/python3.5/site-packages/matplotlib/__init__.py:872: UserWarning: axes.color_cycle is deprecated and replaced with axes.prop_cycle; please use the latter.\n",
      "  warnings.warn(self.msg_depr % (key, alt_key))\n"
     ]
    }
   ],
   "source": [
    "rf.stylely()"
   ]
  },
  {
   "cell_type": "markdown",
   "metadata": {},
   "source": [
    "###A Note about the data used in this example\n",
    "\n",
    "The example code in these tutorials make use of files that are distributed with the source package. The working directory for these code snippets is ``scikit-rf/doc/``, hence all data files are referenced relative to that directory. If you do not have the source package, then you may access these files through the ``skrf.data`` module (ie `from skrf.data import ring_slot`)"
   ]
  },
  {
   "cell_type": "markdown",
   "metadata": {},
   "source": [
    "## Networks"
   ]
  },
  {
   "cell_type": "raw",
   "metadata": {},
   "source": [
    ".. currentmodule:: skrf.network"
   ]
  },
  {
   "cell_type": "markdown",
   "metadata": {},
   "source": [
    "The :class:`Network`  object represents a N-port microwave :class:`Network`. A :class:`Network` can be created in a number of ways. One way is from data stored in a touchstone file. Lets load one from the directory `skrf/data/`."
   ]
  },
  {
   "cell_type": "code",
   "execution_count": 5,
   "metadata": {
    "collapsed": false
   },
   "outputs": [],
   "source": [
    "import os \n",
    "touchstone_file = os.path.join(rf.data.pwd,'ring slot.s2p')\n",
    "ring_slot = rf.Network(touchstone_file)"
   ]
  },
  {
   "cell_type": "markdown",
   "metadata": {},
   "source": [
    "A short description of the network will be printed out if entered onto the command line"
   ]
  },
  {
   "cell_type": "code",
   "execution_count": 6,
   "metadata": {
    "collapsed": false
   },
   "outputs": [
    {
     "data": {
      "text/plain": [
       "2-Port Network: 'ring slot',  75-110 GHz, 201 pts, z0=[ 50.+0.j  50.+0.j]"
      ]
     },
     "execution_count": 6,
     "metadata": {},
     "output_type": "execute_result"
    }
   ],
   "source": [
    "ring_slot"
   ]
  },
  {
   "cell_type": "markdown",
   "metadata": {},
   "source": [
    "The basic attributes of a microwave :class:`Network` are provided by the \n",
    "following properties"
   ]
  },
  {
   "cell_type": "raw",
   "metadata": {},
   "source": [
    "* :attr:`Network.s` : Scattering Parameter matrix. \n",
    "* :attr:`Network.z0`  : Port Characterisic Impedance matrix.\n",
    "* :attr:`Network.frequency`  : Frequency Object. "
   ]
  },
  {
   "cell_type": "markdown",
   "metadata": {},
   "source": [
    "All of the network parameters are complex :class:`numpy.ndarray` 's of shape *FxNxN*, where *F* is the number of frequency points and *N* is the number of ports. The :class:`Network` object has numerous other properties and methods which can found in the :class:`Network` docstring. If you are using IPython, then these properties and methods can be 'tabbed' out on the command line. \n",
    "\n",
    "\n",
    "\tIn [1]: short.s<TAB>\n",
    "\trf.data.line.s              rf.data.line.s_arcl         rf.data.line.s_im\n",
    "\trf.data.line.s11            rf.data.line.s_arcl_unwrap  rf.data.line.s_mag\n",
    "\t..."
   ]
  },
  {
   "cell_type": "markdown",
   "metadata": {},
   "source": [
    "### Linear Operations "
   ]
  },
  {
   "cell_type": "markdown",
   "metadata": {},
   "source": [
    "\t\n",
    "Element-wise mathematical operations on the scattering parameter matrices are accessible through overloaded operators. To illustrate their usage, load a couple  Networks stored in the ``data`` module. "
   ]
  },
  {
   "cell_type": "code",
   "execution_count": 8,
   "metadata": {
    "collapsed": false
   },
   "outputs": [],
   "source": [
    "short = rf.data.wr2p2_short"
   ]
  },
  {
   "cell_type": "code",
   "execution_count": 9,
   "metadata": {
    "collapsed": false
   },
   "outputs": [
    {
     "data": {
      "text/plain": [
       "1-Port Network: 'wr2p2,short',  330-500 GHz, 201 pts, z0=[ 50.+0.j]"
      ]
     },
     "execution_count": 9,
     "metadata": {},
     "output_type": "execute_result"
    }
   ],
   "source": [
    "delayshort = rf.data.wr2p2_delayshort\n",
    "short - delayshort"
   ]
  },
  {
   "cell_type": "code",
   "execution_count": null,
   "metadata": {
    "collapsed": false
   },
   "outputs": [],
   "source": [
    "short + delayshort"
   ]
  },
  {
   "cell_type": "markdown",
   "metadata": {},
   "source": [
    "### Cascading and De-embedding"
   ]
  },
  {
   "cell_type": "markdown",
   "metadata": {},
   "source": [
    "Cascading and de-embeding 2-port Networks can also be done though operators. The :func:`cascade` function can be called through the power operator,  ``**``. To calculate a new network which is the cascaded connection of the two individual Networks ``line`` and ``short``, "
   ]
  },
  {
   "cell_type": "code",
   "execution_count": null,
   "metadata": {
    "collapsed": false
   },
   "outputs": [],
   "source": [
    "short = rf.data.wr2p2_short\n",
    "line = rf.data.wr2p2_line\n",
    "delayshort = line ** short"
   ]
  },
  {
   "cell_type": "markdown",
   "metadata": {},
   "source": [
    "De-embedding  can be accomplished by cascading the *inverse* of a network. The inverse of a network is accessed through the property :attr:`Network.inv`. To de-embed the ``short`` from ``delay_short``,"
   ]
  },
  {
   "cell_type": "code",
   "execution_count": null,
   "metadata": {
    "collapsed": false
   },
   "outputs": [],
   "source": [
    "short = line.inv ** delayshort"
   ]
  },
  {
   "cell_type": "markdown",
   "metadata": {},
   "source": [
    "For more information on the functionality provided by the :class:`Network` object, such as interpolation, stitching, n-port connections, and IO support see the   :doc:`networks` tutorial."
   ]
  },
  {
   "cell_type": "markdown",
   "metadata": {},
   "source": [
    "## Plotting "
   ]
  },
  {
   "cell_type": "markdown",
   "metadata": {},
   "source": [
    "Amongst other things, the methods of the :class:`Network` class provide convenient ways to plot components of the network parameters,"
   ]
  },
  {
   "cell_type": "raw",
   "metadata": {},
   "source": [
    "* `Network.plot_s_db` : plot magnitude of s-parameters in log scale\n",
    "* `Network.plot_s_deg` : plot phase of s-parameters in degrees\n",
    "* `Network.plot_s_smith` : plot complex s-parameters on Smith Chart\n",
    "* ..."
   ]
  },
  {
   "cell_type": "markdown",
   "metadata": {},
   "source": [
    "To plot all four s-parameters of the ``ring_slot``  in Mag, Phase, and on the Smith Chart."
   ]
  },
  {
   "cell_type": "code",
   "execution_count": null,
   "metadata": {
    "collapsed": false
   },
   "outputs": [],
   "source": [
    "ring_slot.plot_s_db()"
   ]
  },
  {
   "cell_type": "code",
   "execution_count": null,
   "metadata": {
    "collapsed": false
   },
   "outputs": [],
   "source": [
    "ring_slot.plot_s_deg()"
   ]
  },
  {
   "cell_type": "code",
   "execution_count": null,
   "metadata": {
    "collapsed": false
   },
   "outputs": [],
   "source": [
    "ring_slot.plot_s_smith()"
   ]
  },
  {
   "cell_type": "markdown",
   "metadata": {},
   "source": [
    "For more detailed information about plotting see the  :doc:`plotting` tutorial"
   ]
  },
  {
   "cell_type": "markdown",
   "metadata": {},
   "source": [
    "## NetworkSet "
   ]
  },
  {
   "cell_type": "raw",
   "metadata": {},
   "source": [
    ".. currentmodule:: skrf.networkSet"
   ]
  },
  {
   "cell_type": "markdown",
   "metadata": {},
   "source": [
    "The :class:`NetworkSet` object\n",
    "represents an unordered  set of networks and provides  methods for \n",
    "calculating statistical quantities and displaying uncertainty bounds.\n",
    "\n",
    "A :class:`NetworkSet` is created from a list or dict of \n",
    ":class:`Network`'s.  This can be done quickly with \n",
    ":func:`~skrf.io.general.read_all` , which loads all skrf-readable objects\n",
    "in a directory. The argument ``contains`` is used to load only files \n",
    "which match a given substring. "
   ]
  },
  {
   "cell_type": "code",
   "execution_count": null,
   "metadata": {
    "collapsed": false
   },
   "outputs": [],
   "source": [
    "rf.read_all(rf.data.pwd, contains='ro')"
   ]
  },
  {
   "cell_type": "markdown",
   "metadata": {},
   "source": [
    "This can be passed directly to the :class:`~skrf.networkset.NetworkSet` constructor, "
   ]
  },
  {
   "cell_type": "code",
   "execution_count": null,
   "metadata": {
    "collapsed": false
   },
   "outputs": [],
   "source": [
    "ro_dict = rf.read_all(rf.data.pwd, contains='ro')\n",
    "ro_ns = rf.NetworkSet(ro_dict, name='ro set') #name is optional\n",
    "ro_ns"
   ]
  },
  {
   "cell_type": "markdown",
   "metadata": {},
   "source": [
    "### Statistical Properties"
   ]
  },
  {
   "cell_type": "markdown",
   "metadata": {},
   "source": [
    "Statistical quantities can be calculated by accessing \n",
    "properties of the NetworkSet. For example, to calculate the complex \n",
    "average of the set, access the ``mean_s`` property"
   ]
  },
  {
   "cell_type": "code",
   "execution_count": null,
   "metadata": {
    "collapsed": false
   },
   "outputs": [],
   "source": [
    "ro_ns.mean_s"
   ]
  },
  {
   "cell_type": "markdown",
   "metadata": {},
   "source": [
    "Similarly, to calculate the complex standard deviation of the set, "
   ]
  },
  {
   "cell_type": "code",
   "execution_count": null,
   "metadata": {
    "collapsed": false
   },
   "outputs": [],
   "source": [
    "ro_ns.std_s"
   ]
  },
  {
   "cell_type": "markdown",
   "metadata": {},
   "source": [
    "These methods return a :class:`~skrf.network.Network` object, so the results can be \n",
    "saved or plotted in the same way as you would with a Network.\n",
    "To plot the magnitude of the standard deviation of the set,  "
   ]
  },
  {
   "cell_type": "code",
   "execution_count": null,
   "metadata": {
    "collapsed": false
   },
   "outputs": [],
   "source": [
    "ro_ns.std_s.plot_s_mag()\n",
    "ylabel('Standard Deviation')\n",
    "title('Standard Deviation of RO');"
   ]
  },
  {
   "cell_type": "markdown",
   "metadata": {},
   "source": [
    "### Plotting Uncertainty Bounds"
   ]
  },
  {
   "cell_type": "markdown",
   "metadata": {},
   "source": [
    "Uncertainty bounds on any network parameter can be plotted through the methods "
   ]
  },
  {
   "cell_type": "code",
   "execution_count": null,
   "metadata": {
    "collapsed": false
   },
   "outputs": [],
   "source": [
    "figure();\n",
    "ro_ns.plot_uncertainty_bounds_s_db();"
   ]
  },
  {
   "cell_type": "markdown",
   "metadata": {},
   "source": [
    "See the :doc:`networkset` tutorial for more information."
   ]
  },
  {
   "cell_type": "markdown",
   "metadata": {},
   "source": [
    "## Virtual Instruments"
   ]
  },
  {
   "cell_type": "raw",
   "metadata": {},
   "source": [
    ".. warning::\n",
    "\n",
    "    The vi module is not well written or tested at this point."
   ]
  },
  {
   "cell_type": "markdown",
   "metadata": {},
   "source": [
    "    \n",
    "\n",
    "The :mod:`~skrf.vi` module holds  classes\n",
    "for GPIB/VISA instruments that are intricately related to skrf, mostly VNA's.\n",
    "The VNA classes were created for the sole purpose of retrieving data \n",
    "so that calibration and measurements could be carried out offline by skrf, \n",
    "control of most other VNA capabilities is neglected.\n",
    "\n",
    "* To use the virtual instrument classes you must have [pyvisa]( http://pyvisa.sourceforge.net/pyvisa/) installed.\n",
    "    \n",
    "A list of VNA's that have been are partially supported.\n",
    "\n",
    "    \n",
    "    * :class:`~vna.HP8510C`\n",
    "    * :class:`~vna.HP8720`\n",
    "    * :class:`~vna.PNA`\n",
    "    * :class:`~vna.ZVA40`\n",
    "\n",
    "An example usage of the :class:`~vna.HP8510C` class to retrieve some s-parameter data"
   ]
  },
  {
   "cell_type": "markdown",
   "metadata": {},
   "source": [
    "    from skrf.vi import vna\n",
    "    my_vna = vna.HP8510C(address =16) \n",
    "    #if an error is thrown at this point there is most likely a problem with your visa setup\n",
    "        \n",
    "    dut_1 = my_vna.s11\n",
    "    dut_2 = my_vna.s21\n",
    "    dut_3 = my_vna.two_port"
   ]
  },
  {
   "cell_type": "markdown",
   "metadata": {},
   "source": [
    "Unfortunately, the syntax is different for every VNA class, so the\n",
    "above example wont directly translate to other VNA's. Re-writing \n",
    "all of the VNA classes to follow the same convention is on the \n",
    "[TODO list] (https://github.com/scikit-rf/scikit-rf/blob/master/TODO.rst)\n",
    "\n",
    "\n",
    "See the :doc:`virtualInstruments` tutorial for more information."
   ]
  },
  {
   "cell_type": "markdown",
   "metadata": {},
   "source": [
    "## Calibration"
   ]
  },
  {
   "cell_type": "markdown",
   "metadata": {},
   "source": [
    "**skrf** has support for one and two-port calibration. **skrf**'s default calibration algorithms are generic in that they will work with any set of standards. If you supply more calibration standards than is needed, skrf will implement a simple least-squares solution. **skrf** does not currently support TRL.\n",
    "\n",
    "Calibrations are performed through a :class:`Calibration` class. Creating\n",
    "a :class:`Calibration` object requires at least two pieces of information:\n",
    "\n",
    "*   a list of measured :class:`~skrf.network.Network`'s\n",
    "*   a list of ideal :class:`~skrf.network.Network`'s\n",
    "\n",
    "The :class:`~skrf.network.Network` elements in each list must all be similar (same #ports, frequency info, etc) and must be aligned to each other, meaning the first element of ideals list must correspond to the first element of measured list.\n",
    "\n",
    "Optionally, other information can be provided when relevent such as,\n",
    "\n",
    "*    calibration algorithm\n",
    "*    enforce eciprocity of embedding networks\n",
    "*    etc \n",
    "\n",
    "When this information is not provided skrf will determine it through \n",
    "inspection, or use a default value.\n",
    "\n",
    "Below is an example script illustrating how to create a :class:`Calibration` .\n",
    "See the :doc:`calibration` tutorial for more details and examples. "
   ]
  },
  {
   "cell_type": "markdown",
   "metadata": {},
   "source": [
    "### One Port Calibration"
   ]
  },
  {
   "cell_type": "markdown",
   "metadata": {},
   "source": [
    "    import skrf as rf\n",
    "    from skf.calibration import OnePort\n",
    "    \n",
    "    my_ideals = rf.read_all('ideals/')\n",
    "    my_measured = rf.read_all('measured/')\n",
    "    duts = rf.read_all('measured/')\n",
    "    \n",
    "    ## create a Calibration instance\n",
    "    cal = rf.OnePort(\\\n",
    "        ideals = [my_ideals[k] for k in ['short','open','load']],\n",
    "        measured = [my_measured[k] for k in ['short','open','load']],\n",
    "        )\n",
    "    \n",
    "    caled_duts = [cal.apply_cal(dut) for dut in duts.values()]"
   ]
  },
  {
   "cell_type": "markdown",
   "metadata": {},
   "source": [
    "## Media"
   ]
  },
  {
   "cell_type": "raw",
   "metadata": {},
   "source": [
    ".. currentModule:: skrf.media"
   ]
  },
  {
   "cell_type": "markdown",
   "metadata": {},
   "source": [
    "**skrf** supports the  microwave network synthesis based on transmission line models. Network creation is accomplished through methods of the Media class, which represents a transmission line object for a given medium. Once constructed, a :class:`~media.Media` object contains the neccesary properties such as ``propagation constant`` and ``characteristic impedance``, that are needed to generate microwave circuits.\n",
    "\n",
    "The basic usage looks something like this,  \n"
   ]
  },
  {
   "cell_type": "code",
   "execution_count": null,
   "metadata": {
    "collapsed": false
   },
   "outputs": [],
   "source": [
    "freq = rf.Frequency(75,110,101,'ghz')\n",
    "cpw = rf.media.CPW(freq, w=10e-6, s=5e-6, ep_r=10.6)\n",
    "cpw.line(100*1e-6, name = '100um line')"
   ]
  },
  {
   "cell_type": "raw",
   "metadata": {},
   "source": [
    ".. warning::\n",
    "\n",
    "        The network creation and connection syntax of **skrf** are cumbersome \n",
    "        if you need to doing complex circuit design. For a this type of \n",
    "        application, you may be interested in using QUCS_ instead.\n",
    "        **skrf**'s synthesis cabilities lend themselves more to scripted applications\n",
    "        such as  :ref:`Design Optimization` or batch processing."
   ]
  },
  {
   "cell_type": "markdown",
   "metadata": {},
   "source": [
    "### Media Types"
   ]
  },
  {
   "cell_type": "markdown",
   "metadata": {},
   "source": [
    "Specific instances of Media objects can be created from relevant physical and \n",
    "electrical properties. Below is a list of mediums types supported by skrf,"
   ]
  },
  {
   "cell_type": "raw",
   "metadata": {},
   "source": [
    ".. hlist::\n",
    "    :columns: 2\n",
    "    \n",
    "    * :class:`~cpw.CPW`\n",
    "    * :class:`~rectangularWaveguide.RectangularWaveguide`\n",
    "    * :class:`~freespace.Freespace`\n",
    "    * :class:`~distributedCircuit.DistributedCircuit`\n",
    "    * :class:`~media.Media`"
   ]
  },
  {
   "cell_type": "markdown",
   "metadata": {},
   "source": [
    "### Network Components "
   ]
  },
  {
   "cell_type": "markdown",
   "metadata": {},
   "source": [
    "Here is a brief\n",
    "list of some generic network components skrf supports,"
   ]
  },
  {
   "cell_type": "raw",
   "metadata": {},
   "source": [
    ".. hlist::\n",
    "    :columns: 3\n",
    "\n",
    "    * :func:`~media.Media.match`\n",
    "    * :func:`~media.Media.short`\n",
    "    * :func:`~media.Media.open`\n",
    "    * :func:`~media.Media.load`\n",
    "    * :func:`~media.Media.line`\n",
    "    * :func:`~media.Media.thru`\n",
    "    * :func:`~media.Media.tee`\n",
    "    * :func:`~media.Media.delay_short`\n",
    "    * :func:`~media.Media.shunt_delay_open`"
   ]
  },
  {
   "cell_type": "markdown",
   "metadata": {},
   "source": [
    "Usage of these methods can is demonstrated below.\n",
    "\n",
    "To create a 1-port network for a coplanar waveguide short (this neglects dicontinuity effects), "
   ]
  },
  {
   "cell_type": "code",
   "execution_count": null,
   "metadata": {
    "collapsed": false
   },
   "outputs": [],
   "source": [
    "cpw.short(name = 'short') "
   ]
  },
  {
   "cell_type": "markdown",
   "metadata": {},
   "source": [
    "Or to create a $90^{\\circ}$ section of cpw line, "
   ]
  },
  {
   "cell_type": "code",
   "execution_count": null,
   "metadata": {
    "collapsed": false
   },
   "outputs": [],
   "source": [
    "cpw.line(d=90,unit='deg', name='line')"
   ]
  },
  {
   "cell_type": "markdown",
   "metadata": {},
   "source": [
    "See :doc:`media` for more information about the Media object and network creation.\n",
    "\n",
    "\n",
    "\n",
    ".. _ipython: http://ipython.scipy.org/moin/\t\n",
    ".. _QUCS: http://www.qucs.sourceforge.net"
   ]
  }
 ],
 "metadata": {
  "anaconda-cloud": {},
  "kernelspec": {
   "display_name": "Python [conda env:py35]",
   "language": "python",
   "name": "conda-env-py35-py"
  },
  "language_info": {
   "codemirror_mode": {
    "name": "ipython",
    "version": 3
   },
   "file_extension": ".py",
   "mimetype": "text/x-python",
   "name": "python",
   "nbconvert_exporter": "python",
   "pygments_lexer": "ipython3",
   "version": "3.5.2"
  }
 },
 "nbformat": 4,
 "nbformat_minor": 0
}
